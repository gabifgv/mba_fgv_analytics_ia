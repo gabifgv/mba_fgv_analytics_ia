{
 "cells": [
  {
   "cell_type": "markdown",
   "id": "503e8c97",
   "metadata": {},
   "source": [
    "# Análise de Pedidos do Chipotle com Pandas\n",
    "\n",
    "Utilizaremos o pandas para carregar e explorar um dataset real de pedidos feitos no restaurante Chipotle."
   ]
  },
  {
   "cell_type": "markdown",
   "id": "29c15e1b",
   "metadata": {},
   "source": [
    "## 1. Importação das bibliotecas e leitura dos dados"
   ]
  },
  {
   "cell_type": "code",
   "execution_count": 14,
   "id": "464c9b09",
   "metadata": {},
   "outputs": [
    {
     "name": "stdout",
     "output_type": "stream",
     "text": [
      "   order_id  quantity                              item_name  \\\n",
      "0         1         1           Chips and Fresh Tomato Salsa   \n",
      "1         1         1                                   Izze   \n",
      "2         1         1                       Nantucket Nectar   \n",
      "3         1         1  Chips and Tomatillo-Green Chili Salsa   \n",
      "4         2         2                           Chicken Bowl   \n",
      "5         3         1                           Chicken Bowl   \n",
      "6         3         1                          Side of Chips   \n",
      "7         4         1                          Steak Burrito   \n",
      "8         4         1                       Steak Soft Tacos   \n",
      "9         5         1                          Steak Burrito   \n",
      "\n",
      "                                  choice_description item_price  \n",
      "0                                                NaN     $2.39   \n",
      "1                                       [Clementine]     $3.39   \n",
      "2                                            [Apple]     $3.39   \n",
      "3                                                NaN     $2.39   \n",
      "4  [Tomatillo-Red Chili Salsa (Hot), [Black Beans...    $16.98   \n",
      "5  [Fresh Tomato Salsa (Mild), [Rice, Cheese, Sou...    $10.98   \n",
      "6                                                NaN     $1.69   \n",
      "7  [Tomatillo Red Chili Salsa, [Fajita Vegetables...    $11.75   \n",
      "8  [Tomatillo Green Chili Salsa, [Pinto Beans, Ch...     $9.25   \n",
      "9  [Fresh Tomato Salsa, [Rice, Black Beans, Pinto...     $9.25   \n",
      "(4622, 5)\n",
      "Index(['order_id', 'quantity', 'item_name', 'choice_description',\n",
      "       'item_price'],\n",
      "      dtype='object')\n",
      "<class 'pandas.core.frame.DataFrame'>\n",
      "RangeIndex: 4622 entries, 0 to 4621\n",
      "Data columns (total 5 columns):\n",
      " #   Column              Non-Null Count  Dtype \n",
      "---  ------              --------------  ----- \n",
      " 0   order_id            4622 non-null   int64 \n",
      " 1   quantity            4622 non-null   int64 \n",
      " 2   item_name           4622 non-null   object\n",
      " 3   choice_description  3376 non-null   object\n",
      " 4   item_price          4622 non-null   object\n",
      "dtypes: int64(2), object(3)\n",
      "memory usage: 180.7+ KB\n",
      "None\n"
     ]
    }
   ],
   "source": [
    "import pandas as pd\n",
    "\n",
    "# URL com os dados no formato TSV\n",
    "url = 'https://raw.githubusercontent.com/justmarkham/DAT8/master/data/chipotle.tsv'\n",
    "\n",
    "# O formato TSV significa Tab-Separated Values — ou seja, um arquivo de texto plano onde os campos são separados por tabulações (em vez de vírgulas, como no CSV).\n",
    "\n",
    "# Leitura com separador tabulação\n",
    "chipo = pd.read_csv(url, sep='\\t')\n",
    "\n",
    "# Visualização inicial\n",
    "print(chipo.head(10))\n",
    "print(chipo.shape)\n",
    "print(chipo.columns)\n",
    "print(chipo.info())"
   ]
  },
  {
   "cell_type": "markdown",
   "id": "3421921c",
   "metadata": {},
   "source": [
    "## 2. Qual é o item mais vendido?\n",
    "\n",
    "Vamos agrupar os dados por `item_name`, somar a coluna numérica `quantity`. Depois, ordenar de forma decrescente."
   ]
  },
  {
   "cell_type": "code",
   "execution_count": 34,
   "id": "2c375468",
   "metadata": {},
   "outputs": [
    {
     "name": "stdout",
     "output_type": "stream",
     "text": [
      "                     order_id  quantity\n",
      "item_name                              \n",
      "Chicken Bowl           713926       761\n",
      "Chicken Burrito        497303       591\n",
      "Chips and Guacamole    449959       506\n",
      "Steak Burrito          328437       386\n",
      "Canned Soft Drink      304753       351\n"
     ]
    }
   ],
   "source": [
    "mais_vendidos = chipo.groupby('item_name').sum('quantity')\n",
    "mais_vendidos = mais_vendidos.sort_values('quantity', ascending=False)\n",
    "print(mais_vendidos.head(5))"
   ]
  },
  {
   "cell_type": "markdown",
   "id": "1b2c00a6",
   "metadata": {},
   "source": [
    "## 3. Qual é o tipo (variação) mais vendido?\n",
    "\n",
    "Agora faremos o mesmo agrupamento, mas por `choice_description`."
   ]
  },
  {
   "cell_type": "code",
   "execution_count": 30,
   "id": "66d8b8df",
   "metadata": {},
   "outputs": [
    {
     "name": "stdout",
     "output_type": "stream",
     "text": [
      "                                                    order_id  quantity\n",
      "choice_description                                                    \n",
      "[Diet Coke]                                           123455       159\n",
      "[Coke]                                                122752       143\n",
      "[Sprite]                                               80426        89\n",
      "[Fresh Tomato Salsa, [Rice, Black Beans, Cheese...     43088        49\n",
      "[Fresh Tomato Salsa, [Rice, Black Beans, Cheese...     36041        42\n"
     ]
    }
   ],
   "source": [
    "m = chipo.groupby('choice_description').sum('quantity')\n",
    "n = m.sort_values('quantity', ascending=False)\n",
    "print(n.head(5))"
   ]
  },
  {
   "cell_type": "markdown",
   "id": "6a9059bf",
   "metadata": {},
   "source": [
    "## 4. Quais são as marcas de refrigerantes vendidos como '6 Pack Soft Drink'?\n",
    "\n",
    "Vamos primeiro verificar os itens únicos e depois filtramos apenas os pedidos com `'6 Pack Soft Drink'`."
   ]
  },
  {
   "cell_type": "code",
   "execution_count": 36,
   "id": "28e2d0ea",
   "metadata": {},
   "outputs": [
    {
     "name": "stdout",
     "output_type": "stream",
     "text": [
      "['Chips and Fresh Tomato Salsa' 'Izze' 'Nantucket Nectar'\n",
      " 'Chips and Tomatillo-Green Chili Salsa' 'Chicken Bowl' 'Side of Chips'\n",
      " 'Steak Burrito' 'Steak Soft Tacos' 'Chips and Guacamole'\n",
      " 'Chicken Crispy Tacos' 'Chicken Soft Tacos' 'Chicken Burrito'\n",
      " 'Canned Soda' 'Barbacoa Burrito' 'Carnitas Burrito' 'Carnitas Bowl'\n",
      " 'Bottled Water' 'Chips and Tomatillo Green Chili Salsa' 'Barbacoa Bowl'\n",
      " 'Chips' 'Chicken Salad Bowl' 'Steak Bowl' 'Barbacoa Soft Tacos'\n",
      " 'Veggie Burrito' 'Veggie Bowl' 'Steak Crispy Tacos'\n",
      " 'Chips and Tomatillo Red Chili Salsa' 'Barbacoa Crispy Tacos'\n",
      " 'Veggie Salad Bowl' 'Chips and Roasted Chili-Corn Salsa'\n",
      " 'Chips and Roasted Chili Corn Salsa' 'Carnitas Soft Tacos'\n",
      " 'Chicken Salad' 'Canned Soft Drink' 'Steak Salad Bowl'\n",
      " '6 Pack Soft Drink' 'Chips and Tomatillo-Red Chili Salsa' 'Bowl'\n",
      " 'Burrito' 'Crispy Tacos' 'Carnitas Crispy Tacos' 'Steak Salad'\n",
      " 'Chips and Mild Fresh Tomato Salsa' 'Veggie Soft Tacos'\n",
      " 'Carnitas Salad Bowl' 'Barbacoa Salad Bowl' 'Salad' 'Veggie Crispy Tacos'\n",
      " 'Veggie Salad' 'Carnitas Salad']\n",
      "      order_id  quantity          item_name choice_description item_price\n",
      "298        129         1  6 Pack Soft Drink           [Sprite]     $6.49 \n",
      "341        148         1  6 Pack Soft Drink        [Diet Coke]     $6.49 \n",
      "357        154         1  6 Pack Soft Drink             [Coke]     $6.49 \n",
      "388        168         1  6 Pack Soft Drink        [Diet Coke]     $6.49 \n",
      "417        182         1  6 Pack Soft Drink        [Diet Coke]     $6.49 \n",
      "553        230         1  6 Pack Soft Drink        [Diet Coke]     $6.49 \n",
      "639        264         1  6 Pack Soft Drink        [Diet Coke]     $6.49 \n",
      "721        298         1  6 Pack Soft Drink           [Nestea]     $6.49 \n",
      "743        306         1  6 Pack Soft Drink             [Coke]     $6.49 \n",
      "879        363         1  6 Pack Soft Drink             [Coke]     $6.49 \n",
      "1026       422         1  6 Pack Soft Drink           [Sprite]     $6.49 \n",
      "1051       432         1  6 Pack Soft Drink             [Coke]     $6.49 \n",
      "1124       465         1  6 Pack Soft Drink             [Coke]     $6.49 \n",
      "1167       481         1  6 Pack Soft Drink             [Coke]     $6.49 \n",
      "1260       511         1  6 Pack Soft Drink             [Coke]     $6.49 \n",
      "1279       520         1  6 Pack Soft Drink           [Sprite]     $6.49 \n",
      "1392       566         1  6 Pack Soft Drink        [Diet Coke]     $6.49 \n",
      "1755       708         1  6 Pack Soft Drink             [Coke]     $6.49 \n",
      "1758       709         1  6 Pack Soft Drink        [Diet Coke]     $6.49 \n",
      "1849       749         1  6 Pack Soft Drink             [Coke]     $6.49 \n",
      "1860       754         1  6 Pack Soft Drink        [Diet Coke]     $6.49 \n",
      "1916       774         1  6 Pack Soft Drink        [Diet Coke]     $6.49 \n",
      "1922       776         1  6 Pack Soft Drink             [Coke]     $6.49 \n",
      "1937       784         1  6 Pack Soft Drink        [Diet Coke]     $6.49 \n",
      "1976       798         1  6 Pack Soft Drink        [Diet Coke]     $6.49 \n",
      "2108       849         1  6 Pack Soft Drink             [Coke]     $6.49 \n",
      "2232       899         1  6 Pack Soft Drink             [Coke]     $6.49 \n",
      "2374       945         1  6 Pack Soft Drink           [Sprite]     $6.49 \n",
      "2389       949         1  6 Pack Soft Drink             [Coke]     $6.49 \n",
      "2713      1076         1  6 Pack Soft Drink             [Coke]     $6.49 \n",
      "2793      1109         1  6 Pack Soft Drink        [Diet Coke]     $6.49 \n",
      "2860      1136         1  6 Pack Soft Drink        [Diet Coke]     $6.49 \n",
      "3010      1196         1  6 Pack Soft Drink        [Diet Coke]     $6.49 \n",
      "3132      1248         1  6 Pack Soft Drink        [Diet Coke]     $6.49 \n",
      "3141      1253         1  6 Pack Soft Drink         [Lemonade]     $6.49 \n",
      "3389      1360         2  6 Pack Soft Drink        [Diet Coke]    $12.98 \n",
      "3422      1373         1  6 Pack Soft Drink             [Coke]     $6.49 \n",
      "3600      1443         1  6 Pack Soft Drink             [Coke]     $6.49 \n",
      "3614      1448         1  6 Pack Soft Drink           [Nestea]     $6.49 \n",
      "3633      1454         1  6 Pack Soft Drink             [Coke]     $6.49 \n",
      "3693      1480         1  6 Pack Soft Drink        [Diet Coke]     $6.49 \n",
      "3766      1508         1  6 Pack Soft Drink             [Coke]     $6.49 \n",
      "3789      1517         1  6 Pack Soft Drink        [Diet Coke]     $6.49 \n",
      "3806      1525         1  6 Pack Soft Drink           [Sprite]     $6.49 \n",
      "3836      1537         1  6 Pack Soft Drink             [Coke]     $6.49 \n",
      "3875      1554         1  6 Pack Soft Drink        [Diet Coke]     $6.49 \n",
      "3886      1558         1  6 Pack Soft Drink        [Diet Coke]     $6.49 \n",
      "4169      1664         1  6 Pack Soft Drink        [Diet Coke]     $6.49 \n",
      "4174      1666         1  6 Pack Soft Drink             [Coke]     $6.49 \n",
      "4359      1741         1  6 Pack Soft Drink             [Coke]     $6.49 \n",
      "4363      1742         1  6 Pack Soft Drink        [Diet Coke]     $6.49 \n",
      "4522      1798         1  6 Pack Soft Drink        [Diet Coke]     $6.49 \n",
      "4527      1800         1  6 Pack Soft Drink        [Diet Coke]     $6.49 \n",
      "4535      1803         1  6 Pack Soft Drink         [Lemonade]     $6.49 \n",
      "['[Sprite]' '[Diet Coke]' '[Coke]' '[Nestea]' '[Lemonade]']\n"
     ]
    }
   ],
   "source": [
    "# Verificando os tipos de item\n",
    "print(chipo['item_name'].unique())\n",
    "\n",
    "# Filtrando somente os refrigerantes\n",
    "x1 = chipo[chipo['item_name'] == '6 Pack Soft Drink']\n",
    "print(x1)\n",
    "\n",
    "# Verificando as marcas\n",
    "x2 = x1['choice_description'].unique()\n",
    "print(x2)"
   ]
  },
  {
   "cell_type": "markdown",
   "id": "a4674ca5",
   "metadata": {},
   "source": [
    "## 5. Quantos pedidos foram feitos?\n",
    "\n",
    "Usamos `groupby('order_id')` e o `len()` para contar os pedidos únicos."
   ]
  },
  {
   "cell_type": "code",
   "execution_count": 40,
   "id": "32b0112d",
   "metadata": {},
   "outputs": [
    {
     "name": "stdout",
     "output_type": "stream",
     "text": [
      "1834\n",
      "1834\n",
      "1834\n"
     ]
    }
   ],
   "source": [
    "print(len(chipo.groupby('order_id')))\n",
    "# Ou simplesmente:\n",
    "print(chipo['order_id'].nunique())\n",
    "# Ou ainda:\n",
    "print(chipo['order_id'].max())"
   ]
  },
  {
   "cell_type": "markdown",
   "id": "4ff7f3a3",
   "metadata": {},
   "source": [
    "## 6. Qual é a distribuição de itens por pedido?\n",
    "\n",
    "Agrupamos por `order_id`, somamos os itens e extraímos estatísticas."
   ]
  },
  {
   "cell_type": "code",
   "execution_count": 43,
   "id": "fb526112",
   "metadata": {},
   "outputs": [
    {
     "name": "stdout",
     "output_type": "stream",
     "text": [
      "          quantity\n",
      "order_id          \n",
      "1                4\n",
      "2                2\n",
      "3                2\n",
      "4                2\n",
      "5                2\n",
      "...            ...\n",
      "1830             2\n",
      "1831             3\n",
      "1832             2\n",
      "1833             2\n",
      "1834             3\n",
      "\n",
      "[1834 rows x 1 columns]\n",
      "2.711014176663032\n",
      "1.6776242381295476\n"
     ]
    },
    {
     "data": {
      "text/plain": [
       "<Axes: >"
      ]
     },
     "execution_count": 43,
     "metadata": {},
     "output_type": "execute_result"
    },
    {
     "data": {
      "image/png": "[encoded data removed]",
      "text/plain": [
       "<Figure size 640x480 with 1 Axes>"
      ]
     },
     "metadata": {},
     "output_type": "display_data"
    }
   ],
   "source": [
    "pedido_agrupado = chipo.groupby('order_id').sum(numeric_only=True)\n",
    "print(pedido_agrupado)\n",
    "\n",
    "# Estatísticas descritivas\n",
    "print(pedido_agrupado['quantity'].mean())\n",
    "print(pedido_agrupado['quantity'].std())\n",
    "\n",
    "# Histograma\n",
    "pedido_agrupado['quantity'].hist()"
   ]
  },
  {
   "cell_type": "code",
   "execution_count": null,
   "id": "f15479ee-3054-4155-b1d4-200b41ff7194",
   "metadata": {},
   "outputs": [],
   "source": []
  }
 ],
 "metadata": {
  "kernelspec": {
   "display_name": "Python [conda env:base] *",
   "language": "python",
   "name": "conda-base-py"
  },
  "language_info": {
   "codemirror_mode": {
    "name": "ipython",
    "version": 3
   },
   "file_extension": ".py",
   "mimetype": "text/x-python",
   "name": "python",
   "nbconvert_exporter": "python",
   "pygments_lexer": "ipython3",
   "version": "3.12.7"
  }
 },
 "nbformat": 4,
 "nbformat_minor": 5
}
