{
 "cells": [
  {
   "cell_type": "markdown",
   "id": "503e8c97",
   "metadata": {},
   "source": [
    "# Análise de Pedidos do Chipotle com Pandas\n",
    "\n",
    "Utilizaremos o pandas para carregar e explorar um dataset real de pedidos feitos no restaurante Chipotle."
   ]
  },
  {
   "cell_type": "markdown",
   "id": "29c15e1b",
   "metadata": {},
   "source": [
    "## 1. Importação das bibliotecas e leitura dos dados"
   ]
  },
  {
   "cell_type": "code",
   "execution_count": 6,
   "id": "464c9b09",
   "metadata": {},
   "outputs": [
    {
     "name": "stdout",
     "output_type": "stream",
     "text": [
      "   order_id  quantity                     item_name choice_description  \\\n",
      "0         1         1  Chips and Fresh Tomato Salsa                NaN   \n",
      "1         1         1                          Izze       [Clementine]   \n",
      "2         1         1              Nantucket Nectar            [Apple]   \n",
      "\n",
      "  item_price  \n",
      "0     $2.39   \n",
      "1     $3.39   \n",
      "2     $3.39   \n",
      "(4622, 5)\n",
      "Index(['order_id', 'quantity', 'item_name', 'choice_description',\n",
      "       'item_price'],\n",
      "      dtype='object')\n",
      "<class 'pandas.core.frame.DataFrame'>\n",
      "RangeIndex: 4622 entries, 0 to 4621\n",
      "Data columns (total 5 columns):\n",
      " #   Column              Non-Null Count  Dtype \n",
      "---  ------              --------------  ----- \n",
      " 0   order_id            4622 non-null   int64 \n",
      " 1   quantity            4622 non-null   int64 \n",
      " 2   item_name           4622 non-null   object\n",
      " 3   choice_description  3376 non-null   object\n",
      " 4   item_price          4622 non-null   object\n",
      "dtypes: int64(2), object(3)\n",
      "memory usage: 180.7+ KB\n",
      "None\n"
     ]
    }
   ],
   "source": [
    "import pandas as pd\n",
    "\n",
    "# URL com os dados no formato TSV\n",
    "url = 'https://raw.githubusercontent.com/justmarkham/DAT8/master/data/chipotle.tsv'\n",
    "\n",
    "# O formato TSV significa Tab-Separated Values — ou seja, um arquivo de texto plano onde os campos são separados por tabulações (em vez de vírgulas, como no CSV).\n",
    "\n",
    "# Leitura com separador tabulação\n",
    "chipo = pd.read_csv(url, sep='\\t')\n",
    "\n",
    "# Visualização inicial\n",
    "print(chipo.head(3))\n",
    "print(chipo.shape)\n",
    "print(chipo.columns)\n",
    "print(chipo.info())"
   ]
  },
  {
   "cell_type": "markdown",
   "id": "3421921c",
   "metadata": {},
   "source": [
    "## 2. Qual é o item mais vendido?\n",
    "\n",
    "Vamos agrupar os dados por `item_name`, somar a coluna numérica `quantity`. Depois, ordenar de forma decrescente."
   ]
  },
  {
   "cell_type": "code",
   "execution_count": 7,
   "id": "2c375468",
   "metadata": {},
   "outputs": [
    {
     "name": "stdout",
     "output_type": "stream",
     "text": [
      "                              order_id  quantity\n",
      "item_name                                       \n",
      "Chicken Bowl                    713926       761\n",
      "Chicken Burrito                 497303       591\n",
      "Chips and Guacamole             449959       506\n",
      "Steak Burrito                   328437       386\n",
      "Canned Soft Drink               304753       351\n",
      "Chips                           208004       230\n",
      "Steak Bowl                      193752       221\n",
      "Bottled Water                   175944       211\n",
      "Chips and Fresh Tomato Salsa    100419       130\n",
      "Canned Soda                      76396       126\n"
     ]
    }
   ],
   "source": [
    "mais_vendidos = chipo.groupby('item_name').sum('quantity')\n",
    "mais_vendidos = mais_vendidos.sort_values('quantity', ascending=False)\n",
    "print(mais_vendidos.head(10))"
   ]
  },
  {
   "cell_type": "markdown",
   "id": "1b2c00a6",
   "metadata": {},
   "source": [
    "## 3. Qual é o tipo (variação) mais vendido?\n",
    "\n",
    "Agora faremos o mesmo agrupamento, mas por `choice_description`."
   ]
  },
  {
   "cell_type": "code",
   "execution_count": 8,
   "id": "66d8b8df",
   "metadata": {},
   "outputs": [
    {
     "name": "stdout",
     "output_type": "stream",
     "text": [
      "                                                    order_id  quantity\n",
      "choice_description                                                    \n",
      "[Diet Coke]                                           123455       159\n",
      "[Coke]                                                122752       143\n",
      "[Sprite]                                               80426        89\n",
      "[Fresh Tomato Salsa, [Rice, Black Beans, Cheese...     43088        49\n",
      "[Fresh Tomato Salsa, [Rice, Black Beans, Cheese...     36041        42\n"
     ]
    }
   ],
   "source": [
    "m = chipo.groupby('choice_description').sum('quantity')\n",
    "n = m.sort_values('quantity', ascending=False)\n",
    "print(n.head(5))"
   ]
  },
  {
   "cell_type": "markdown",
   "id": "6a9059bf",
   "metadata": {},
   "source": [
    "## 4. Quais são as marcas de refrigerantes vendidos como '6 Pack Soft Drink'?\n",
    "\n",
    "Vamos primeiro verificar os itens únicos e depois filtramos apenas os pedidos com `'6 Pack Soft Drink'`."
   ]
  },
  {
   "cell_type": "code",
   "execution_count": 20,
   "id": "28e2d0ea",
   "metadata": {},
   "outputs": [
    {
     "name": "stdout",
     "output_type": "stream",
     "text": [
      "[nan '[Clementine]' '[Apple]' ...\n",
      " '[Roasted Chili Corn Salsa, [Pinto Beans, Sour Cream, Cheese, Lettuce, Guacamole]]'\n",
      " '[Tomatillo Green Chili Salsa, [Rice, Black Beans]]'\n",
      " '[Tomatillo Green Chili Salsa, [Rice, Fajita Vegetables, Black Beans, Guacamole]]']\n",
      "      order_id  quantity          item_name choice_description item_price\n",
      "298        129         1  6 Pack Soft Drink           [Sprite]     $6.49 \n",
      "341        148         1  6 Pack Soft Drink        [Diet Coke]     $6.49 \n",
      "357        154         1  6 Pack Soft Drink             [Coke]     $6.49 \n",
      "388        168         1  6 Pack Soft Drink        [Diet Coke]     $6.49 \n",
      "417        182         1  6 Pack Soft Drink        [Diet Coke]     $6.49 \n",
      "553        230         1  6 Pack Soft Drink        [Diet Coke]     $6.49 \n",
      "639        264         1  6 Pack Soft Drink        [Diet Coke]     $6.49 \n",
      "721        298         1  6 Pack Soft Drink           [Nestea]     $6.49 \n",
      "743        306         1  6 Pack Soft Drink             [Coke]     $6.49 \n",
      "879        363         1  6 Pack Soft Drink             [Coke]     $6.49 \n",
      "1026       422         1  6 Pack Soft Drink           [Sprite]     $6.49 \n",
      "1051       432         1  6 Pack Soft Drink             [Coke]     $6.49 \n",
      "1124       465         1  6 Pack Soft Drink             [Coke]     $6.49 \n",
      "1167       481         1  6 Pack Soft Drink             [Coke]     $6.49 \n",
      "1260       511         1  6 Pack Soft Drink             [Coke]     $6.49 \n",
      "1279       520         1  6 Pack Soft Drink           [Sprite]     $6.49 \n",
      "1392       566         1  6 Pack Soft Drink        [Diet Coke]     $6.49 \n",
      "1755       708         1  6 Pack Soft Drink             [Coke]     $6.49 \n",
      "1758       709         1  6 Pack Soft Drink        [Diet Coke]     $6.49 \n",
      "1849       749         1  6 Pack Soft Drink             [Coke]     $6.49 \n",
      "1860       754         1  6 Pack Soft Drink        [Diet Coke]     $6.49 \n",
      "1916       774         1  6 Pack Soft Drink        [Diet Coke]     $6.49 \n",
      "1922       776         1  6 Pack Soft Drink             [Coke]     $6.49 \n",
      "1937       784         1  6 Pack Soft Drink        [Diet Coke]     $6.49 \n",
      "1976       798         1  6 Pack Soft Drink        [Diet Coke]     $6.49 \n",
      "2108       849         1  6 Pack Soft Drink             [Coke]     $6.49 \n",
      "2232       899         1  6 Pack Soft Drink             [Coke]     $6.49 \n",
      "2374       945         1  6 Pack Soft Drink           [Sprite]     $6.49 \n",
      "2389       949         1  6 Pack Soft Drink             [Coke]     $6.49 \n",
      "2713      1076         1  6 Pack Soft Drink             [Coke]     $6.49 \n",
      "2793      1109         1  6 Pack Soft Drink        [Diet Coke]     $6.49 \n",
      "2860      1136         1  6 Pack Soft Drink        [Diet Coke]     $6.49 \n",
      "3010      1196         1  6 Pack Soft Drink        [Diet Coke]     $6.49 \n",
      "3132      1248         1  6 Pack Soft Drink        [Diet Coke]     $6.49 \n",
      "3141      1253         1  6 Pack Soft Drink         [Lemonade]     $6.49 \n",
      "3389      1360         2  6 Pack Soft Drink        [Diet Coke]    $12.98 \n",
      "3422      1373         1  6 Pack Soft Drink             [Coke]     $6.49 \n",
      "3600      1443         1  6 Pack Soft Drink             [Coke]     $6.49 \n",
      "3614      1448         1  6 Pack Soft Drink           [Nestea]     $6.49 \n",
      "3633      1454         1  6 Pack Soft Drink             [Coke]     $6.49 \n",
      "3693      1480         1  6 Pack Soft Drink        [Diet Coke]     $6.49 \n",
      "3766      1508         1  6 Pack Soft Drink             [Coke]     $6.49 \n",
      "3789      1517         1  6 Pack Soft Drink        [Diet Coke]     $6.49 \n",
      "3806      1525         1  6 Pack Soft Drink           [Sprite]     $6.49 \n",
      "3836      1537         1  6 Pack Soft Drink             [Coke]     $6.49 \n",
      "3875      1554         1  6 Pack Soft Drink        [Diet Coke]     $6.49 \n",
      "3886      1558         1  6 Pack Soft Drink        [Diet Coke]     $6.49 \n",
      "4169      1664         1  6 Pack Soft Drink        [Diet Coke]     $6.49 \n",
      "4174      1666         1  6 Pack Soft Drink             [Coke]     $6.49 \n",
      "4359      1741         1  6 Pack Soft Drink             [Coke]     $6.49 \n",
      "4363      1742         1  6 Pack Soft Drink        [Diet Coke]     $6.49 \n",
      "4522      1798         1  6 Pack Soft Drink        [Diet Coke]     $6.49 \n",
      "4527      1800         1  6 Pack Soft Drink        [Diet Coke]     $6.49 \n",
      "4535      1803         1  6 Pack Soft Drink         [Lemonade]     $6.49 \n"
     ]
    }
   ],
   "source": [
    "# Verificando os tipos de item\n",
    "# print(chipo['item_name'].unique())\n",
    "\n",
    "# Filtrando somente os refrigerantes\n",
    "\n",
    "# Verificando os tipos de item únicos na coluna 'choice_description'\n",
    "print(chipo['choice_description'].unique())\n",
    "\n",
    "# Filtrando somente os refrigerantes\n",
    "print(chipo[chipo['item_name'] == '6 Pack Soft Drink'])\n",
    "\n",
    "# Verificando as marcas\n",
    "# x2 = x1['choice_description'].unique()\n",
    "# print(x2)"
   ]
  },
  {
   "cell_type": "markdown",
   "id": "a4674ca5",
   "metadata": {},
   "source": [
    "## 5. Quantos pedidos foram feitos?\n",
    "\n",
    "Usamos `groupby('order_id')` e o `len()` para contar os pedidos únicos."
   ]
  },
  {
   "cell_type": "code",
   "execution_count": 21,
   "id": "32b0112d",
   "metadata": {},
   "outputs": [
    {
     "name": "stdout",
     "output_type": "stream",
     "text": [
      "1834\n",
      "1834\n",
      "1834\n"
     ]
    }
   ],
   "source": [
    "print(len(chipo.groupby('order_id')))\n",
    "# Ou simplesmente:\n",
    "print(chipo['order_id'].nunique())\n",
    "# Ou ainda:\n",
    "print(chipo['order_id'].max())"
   ]
  },
  {
   "cell_type": "markdown",
   "id": "4ff7f3a3",
   "metadata": {},
   "source": [
    "## 6. Qual é a distribuição de itens por pedido?\n",
    "\n",
    "Agrupamos por `order_id`, somamos os itens e extraímos estatísticas."
   ]
  },
  {
   "cell_type": "code",
   "execution_count": null,
   "id": "fb526112",
   "metadata": {},
   "outputs": [
    {
     "name": "stdout",
     "output_type": "stream",
     "text": [
      "          quantity  item_price\n",
      "order_id                      \n",
      "1                4       11.56\n",
      "2                2       16.98\n",
      "3                2       12.67\n",
      "4                2       21.00\n",
      "5                2       13.70\n",
      "...            ...         ...\n",
      "1830             2       23.00\n",
      "1831             3       12.90\n",
      "1832             2       13.20\n",
      "1833             2       23.50\n",
      "1834             3       28.75\n",
      "\n",
      "[1834 rows x 2 columns]\n",
      "18.811428571428568\n",
      "11.652511696471787\n"
     ]
    },
    {
     "data": {
      "text/plain": [
       "<Axes: >"
      ]
     },
     "execution_count": 24,
     "metadata": {},
     "output_type": "execute_result"
    },
    {
     "data": {
      "image/png": "[encoded data removed]",
      "text/plain": [
       "<Figure size 640x480 with 1 Axes>"
      ]
     },
     "metadata": {},
     "output_type": "display_data"
    },
    {
     "ename": "",
     "evalue": "",
     "output_type": "error",
     "traceback": [
      "\u001b[1;31mThe Kernel crashed while executing code in the current cell or a previous cell. \n",
      "\u001b[1;31mPlease review the code in the cell(s) to identify a possible cause of the failure. \n",
      "\u001b[1;31mClick <a href='https://aka.ms/vscodeJupyterKernelCrash'>here</a> for more info. \n",
      "\u001b[1;31mView Jupyter <a href='command:jupyter.viewOutput'>log</a> for further details."
     ]
    }
   ],
   "source": [
    "pedido_agrupado = chipo.groupby('order_id').sum('item_price')\n",
    "print(pedido_agrupado)\n",
    "\n",
    "# Estatísticas descritivas\n",
    "print(pedido_agrupado['item_price'].mean())\n",
    "print(pedido_agrupado['item_price'].std())\n",
    "\n",
    "# Histograma\n",
    "pedido_agrupado['item_price'].hist()"
   ]
  },
  {
   "cell_type": "code",
   "execution_count": 23,
   "id": "f0b2d9d6",
   "metadata": {},
   "outputs": [
    {
     "name": "stdout",
     "output_type": "stream",
     "text": [
      "                     order_id  quantity  item_price\n",
      "item_name                                          \n",
      "Chicken Bowl           713926       761     7342.73\n",
      "Chicken Burrito        497303       591     5575.82\n",
      "Steak Burrito          328437       386     3851.43\n",
      "Steak Bowl             193752       221     2260.19\n",
      "Chips and Guacamole    449959       506     2201.04\n"
     ]
    }
   ],
   "source": [
    "chipo['item_price'] = chipo['item_price'].astype(str)\n",
    "chipo['item_price'] = (\n",
    "    chipo['item_price']\n",
    "    .str.replace('$', '', regex=False)\n",
    "    .astype(float)\n",
    ")\n",
    "#chipo.info()\n",
    "mais_mais = chipo.groupby('item_name').sum('item_price').sort_values('item_price', ascending=False)\n",
    "print(mais_mais.head(5))"
   ]
  },
  {
   "cell_type": "code",
   "execution_count": null,
   "id": "f15479ee-3054-4155-b1d4-200b41ff7194",
   "metadata": {},
   "outputs": [],
   "source": []
  }
 ],
 "metadata": {
  "kernelspec": {
   "display_name": "base",
   "language": "python",
   "name": "python3"
  },
  "language_info": {
   "codemirror_mode": {
    "name": "ipython",
    "version": 3
   },
   "file_extension": ".py",
   "mimetype": "text/x-python",
   "name": "python",
   "nbconvert_exporter": "python",
   "pygments_lexer": "ipython3",
   "version": "3.12.7"
  }
 },
 "nbformat": 4,
 "nbformat_minor": 5
}
