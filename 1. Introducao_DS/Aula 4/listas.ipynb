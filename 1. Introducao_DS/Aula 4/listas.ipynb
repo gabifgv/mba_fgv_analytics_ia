{
 "cells": [
  {
   "cell_type": "markdown",
   "metadata": {
    "id": "zOevvGZHkEq-"
   },
   "source": [
    "# Listas"
   ]
  },
  {
   "cell_type": "markdown",
   "metadata": {
    "id": "xd6IlQ1JkYiX"
   },
   "source": [
    "Uma **lista** é um variável que contém diversos valores em uma sequência ordenada."
   ]
  },
  {
   "cell_type": "code",
   "execution_count": 1,
   "metadata": {
    "id": "rH2b5SSJkD0B"
   },
   "outputs": [
    {
     "name": "stdout",
     "output_type": "stream",
     "text": [
      "['azul', 'vermelho', 'amarelo']\n"
     ]
    }
   ],
   "source": [
    "x = ['azul', 'vermelho', 'amarelo']\n",
    "print(x)"
   ]
  },
  {
   "cell_type": "markdown",
   "metadata": {
    "id": "4o4UVE42wZoZ"
   },
   "source": [
    "Use **índices** (números inteiros) para referenciar um valor dentro de uma lista."
   ]
  },
  {
   "cell_type": "code",
   "execution_count": 4,
   "metadata": {
    "id": "2B20tJxWk7gl"
   },
   "outputs": [
    {
     "name": "stdout",
     "output_type": "stream",
     "text": [
      "azul\n",
      "vermelho\n",
      "amarelo\n"
     ]
    }
   ],
   "source": [
    "x = ['azul', 'vermelho', 'amarelo']\n",
    "y = x[0]\n",
    "z = x[1]\n",
    "w = x[2]\n",
    "print(y)\n",
    "print(z)\n",
    "print(w)"
   ]
  },
  {
   "cell_type": "markdown",
   "metadata": {
    "id": "dkUwHWZtxMnu"
   },
   "source": [
    "Pode haver **listas dentro de listas**."
   ]
  },
  {
   "cell_type": "code",
   "execution_count": 7,
   "metadata": {
    "id": "nOQOmUAIn08b"
   },
   "outputs": [
    {
     "name": "stdout",
     "output_type": "stream",
     "text": [
      "amarelo\n"
     ]
    }
   ],
   "source": [
    "x= [\n",
    "    ['azul', 'vermelho', 'amarelo'],\n",
    "    ['amargo', 'doce', 'salgado']\n",
    "   ]\n",
    "print(x[0][2])"
   ]
  },
  {
   "cell_type": "markdown",
   "metadata": {
    "id": "vs6878ZxxeBA"
   },
   "source": [
    "**Índices negativos** pegam os elementos de uma lista do fim para o começo."
   ]
  },
  {
   "cell_type": "code",
   "execution_count": 10,
   "metadata": {
    "id": "ADzh2DnkoUma"
   },
   "outputs": [
    {
     "name": "stdout",
     "output_type": "stream",
     "text": [
      "amarelo\n",
      "vermelho\n"
     ]
    }
   ],
   "source": [
    "x = ['azul', 'vermelho', 'amarelo']\n",
    "print(x[-1])\n",
    "print(x[-2])"
   ]
  },
  {
   "cell_type": "markdown",
   "metadata": {
    "id": "19F0ADupxvlE"
   },
   "source": [
    "**Slices** (fatias) de uma lista"
   ]
  },
  {
   "cell_type": "code",
   "execution_count": 13,
   "metadata": {
    "id": "BFySDxS5ohxl"
   },
   "outputs": [
    {
     "name": "stdout",
     "output_type": "stream",
     "text": [
      "['azul']\n",
      "['azul', 'vermelho']\n",
      "['azul', 'vermelho', 'amarelo']\n"
     ]
    }
   ],
   "source": [
    "x = ['azul', 'vermelho', 'amarelo']\n",
    "y = x[0:1]\n",
    "z = x[0:2]\n",
    "w = x[0:3]\n",
    "print(y)\n",
    "print(z)\n",
    "print(w)"
   ]
  },
  {
   "cell_type": "markdown",
   "metadata": {
    "id": "G7KspsUzx77I"
   },
   "source": [
    "Obtendo o comprimento de uma lista"
   ]
  },
  {
   "cell_type": "code",
   "execution_count": 16,
   "metadata": {
    "id": "lSPj_yEPo9Vp"
   },
   "outputs": [
    {
     "name": "stdout",
     "output_type": "stream",
     "text": [
      "3\n",
      "amarelo\n"
     ]
    }
   ],
   "source": [
    "x = ['azul', 'vermelho', 'amarelo']\n",
    "y = len(x)\n",
    "print(y)\n",
    "z = x[len(x)-1]\n",
    "print(z)"
   ]
  },
  {
   "cell_type": "markdown",
   "metadata": {
    "id": "cZIIH1ybyGFO"
   },
   "source": [
    "Alterando um dos valores de uma lista"
   ]
  },
  {
   "cell_type": "code",
   "execution_count": 19,
   "metadata": {
    "id": "Kbw04ZRppc8L"
   },
   "outputs": [
    {
     "name": "stdout",
     "output_type": "stream",
     "text": [
      "['azul', 'vermelho', 'roxo']\n"
     ]
    }
   ],
   "source": [
    "x = ['azul', 'vermelho', 'amarelo']\n",
    "x[2] = 'roxo'\n",
    "print(x)"
   ]
  },
  {
   "cell_type": "markdown",
   "metadata": {
    "id": "YuzibcFFyLYh"
   },
   "source": [
    "Operador **+** usado com listas"
   ]
  },
  {
   "cell_type": "code",
   "execution_count": 22,
   "metadata": {
    "id": "ceWVzvngpn4Y"
   },
   "outputs": [
    {
     "name": "stdout",
     "output_type": "stream",
     "text": [
      "['azul', 'vermelho', 'amarelo', 'azul', 'vermelho', 'amarelo']\n"
     ]
    }
   ],
   "source": [
    "x = ['azul', 'vermelho', 'amarelo']\n",
    "x = x + x\n",
    "print(x)"
   ]
  },
  {
   "cell_type": "markdown",
   "metadata": {
    "id": "mUewbBsDyTP_"
   },
   "source": [
    "Operador * usado com listas"
   ]
  },
  {
   "cell_type": "code",
   "execution_count": 25,
   "metadata": {
    "id": "nRHfX9Xzpw4K"
   },
   "outputs": [
    {
     "name": "stdout",
     "output_type": "stream",
     "text": [
      "[1, 2, 3, 1, 2, 3, 1, 2, 3]\n"
     ]
    }
   ],
   "source": [
    "x = [1, 2, 3]\n",
    "print(3*x)"
   ]
  },
  {
   "cell_type": "markdown",
   "metadata": {
    "id": "spk8_HmNyfeN"
   },
   "source": [
    "Operador **in** usado com listas"
   ]
  },
  {
   "cell_type": "code",
   "execution_count": 28,
   "metadata": {
    "id": "7q41Y3wbqQMj"
   },
   "outputs": [
    {
     "name": "stdout",
     "output_type": "stream",
     "text": [
      "False\n"
     ]
    }
   ],
   "source": [
    "x = ['azul', 'vermelho', 'amarelo']\n",
    "y = 'roxo' in x\n",
    "print(y)"
   ]
  },
  {
   "cell_type": "code",
   "execution_count": 30,
   "metadata": {
    "id": "Sa9H3dK-qnEl"
   },
   "outputs": [
    {
     "name": "stdout",
     "output_type": "stream",
     "text": [
      "está incluso\n"
     ]
    }
   ],
   "source": [
    "x = ['azul', 'vermelho', 'amarelo']\n",
    "if 'azul' in x:\n",
    "  print('está incluso')\n",
    "else:\n",
    "  print('não está incluso')"
   ]
  },
  {
   "cell_type": "markdown",
   "metadata": {
    "id": "BfjFJztKymjX"
   },
   "source": [
    "**Outras formas para mexer com listas:**\n",
    "\n",
    "1.   **index**: fornece o índice (posição) de um conteúdo dentro da lista\n",
    "2.   **append**: acrescenta um elemento ao final da lista\n",
    "3.   **insert**: acrescenta um elemento em uma certa posição (índice) da lista\n",
    "4.   **remove**: remove da lista um determinado conteúdo\n",
    "5.   **count**:  conta ocorrência de um elemento na lista\n",
    "6.   **del**: remove da lista o elemento em determinado índice (posição)\n",
    "7.   **sort**: ordena a lista em ordem alfabética ou crescente\n",
    "\n",
    "\n",
    "\n"
   ]
  },
  {
   "cell_type": "code",
   "execution_count": 33,
   "metadata": {
    "id": "C833heVDrJEj"
   },
   "outputs": [
    {
     "name": "stdout",
     "output_type": "stream",
     "text": [
      "1\n"
     ]
    }
   ],
   "source": [
    "# index fornece o índice (posição) de um conteúdo dentro da lista\n",
    "x = ['azul', 'vermelho', 'amarelo']\n",
    "y = x.index('vermelho')\n",
    "print (y)"
   ]
  },
  {
   "cell_type": "code",
   "execution_count": 35,
   "metadata": {
    "id": "EVh396Kwrtd0"
   },
   "outputs": [
    {
     "name": "stdout",
     "output_type": "stream",
     "text": [
      "amarelo\n"
     ]
    }
   ],
   "source": [
    "# usando index para achar o \"elemento seguinte\"\n",
    "x = ['azul', 'vermelho', 'amarelo']\n",
    "y = x.index('vermelho')\n",
    "z = x[y + 1]\n",
    "print(z)"
   ]
  },
  {
   "cell_type": "code",
   "execution_count": 37,
   "metadata": {
    "id": "uG5Q0OI6sHPy"
   },
   "outputs": [
    {
     "name": "stdout",
     "output_type": "stream",
     "text": [
      "['azul', 'vermelho', 'amarelo', 'roxo']\n"
     ]
    }
   ],
   "source": [
    "# usando append para acrescentar um elemento ao final da lista\n",
    "x = ['azul', 'vermelho', 'amarelo']\n",
    "x.append('roxo')          # repare que não fizemos uma atribuição usando \"=\"\n",
    "print(x)"
   ]
  },
  {
   "cell_type": "code",
   "execution_count": 39,
   "metadata": {
    "id": "7KmB3dSzscb9"
   },
   "outputs": [
    {
     "name": "stdout",
     "output_type": "stream",
     "text": [
      "['azul', 'roxo', 'vermelho', 'amarelo']\n"
     ]
    }
   ],
   "source": [
    "# usando append para inserir um elemento em determinada posição da lista (indicamos o index)\n",
    "x = ['azul', 'vermelho', 'amarelo']\n",
    "x.insert(1, 'roxo')       # repare que não fizemos uma atribuição usando \"=\"\n",
    "print(x)"
   ]
  },
  {
   "cell_type": "code",
   "execution_count": 41,
   "metadata": {
    "id": "ONlhjmWgsqrQ"
   },
   "outputs": [
    {
     "name": "stdout",
     "output_type": "stream",
     "text": [
      "['vermelho', 'amarelo']\n"
     ]
    }
   ],
   "source": [
    "# usando remove para remover um conteúdo da lista (indicamos o conteúdo)\n",
    "x = ['azul', 'vermelho', 'amarelo']\n",
    "x.remove('azul')          # repare que não fizemos uma atribuição usando \"=\"\n",
    "print(x)"
   ]
  },
  {
   "cell_type": "code",
   "execution_count": 43,
   "metadata": {
    "id": "5mr7sPPIXLDu"
   },
   "outputs": [
    {
     "name": "stdout",
     "output_type": "stream",
     "text": [
      "['vermelho', 'amarelo', 'azul']\n",
      "['vermelho', 'amarelo']\n"
     ]
    }
   ],
   "source": [
    "# perceba que remove removerá apenas a primeira ocorrência!\n",
    "x = ['azul', 'vermelho', 'amarelo', 'azul']\n",
    "x.remove('azul')\n",
    "print(x)\n",
    "x.remove('azul')\n",
    "print(x)"
   ]
  },
  {
   "cell_type": "code",
   "execution_count": 45,
   "metadata": {
    "id": "ooDVXBGdozMb"
   },
   "outputs": [
    {
     "name": "stdout",
     "output_type": "stream",
     "text": [
      "2\n"
     ]
    }
   ],
   "source": [
    "# usando count para contar ocorrências\n",
    "x = ['azul', 'azul', 'amarelo']\n",
    "y = x.count(\"azul\")\n",
    "print(y)"
   ]
  },
  {
   "cell_type": "code",
   "execution_count": 47,
   "metadata": {
    "id": "wYTEH4NehYCT"
   },
   "outputs": [
    {
     "name": "stdout",
     "output_type": "stream",
     "text": [
      "['azul', 'amarelo', 'azul']\n"
     ]
    }
   ],
   "source": [
    "# usando del para remover um determinado elemento da lista (indicamos o index)\n",
    "x = ['azul', 'vermelho', 'amarelo', 'azul']\n",
    "del x[1]        # repare que não fizemos uma atribuição usando \"=\"\n",
    "print(x)"
   ]
  },
  {
   "cell_type": "code",
   "execution_count": 49,
   "metadata": {
    "id": "S39tre1PtBi8"
   },
   "outputs": [
    {
     "name": "stdout",
     "output_type": "stream",
     "text": [
      "['amarelo', 'azul', 'vermelho']\n"
     ]
    }
   ],
   "source": [
    "# usando sort para ordenar uma lista\n",
    "x = ['azul', 'vermelho', 'amarelo']\n",
    "x.sort()            # repare que não fizemos uma atribuição usando \"=\"\n",
    "print(x)"
   ]
  }
 ],
 "metadata": {
  "colab": {
   "provenance": []
  },
  "kernelspec": {
   "display_name": "Python [conda env:base] *",
   "language": "python",
   "name": "conda-base-py"
  },
  "language_info": {
   "codemirror_mode": {
    "name": "ipython",
    "version": 3
   },
   "file_extension": ".py",
   "mimetype": "text/x-python",
   "name": "python",
   "nbconvert_exporter": "python",
   "pygments_lexer": "ipython3",
   "version": "3.12.7"
  }
 },
 "nbformat": 4,
 "nbformat_minor": 4
}
