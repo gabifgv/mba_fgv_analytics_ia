{
 "cells": [
  {
   "cell_type": "code",
   "execution_count": 3,
   "id": "b2e38210",
   "metadata": {},
   "outputs": [],
   "source": [
    "import numpy as np"
   ]
  },
  {
   "cell_type": "code",
   "execution_count": null,
   "id": "3dabc4d8",
   "metadata": {},
   "outputs": [
    {
     "name": "stdout",
     "output_type": "stream",
     "text": [
      "3.52622 %\n"
     ]
    }
   ],
   "source": [
    "import numpy as np\n",
    "n_simulacoes = 200000  \n",
    "n_testes = 8            \n",
    "p_acerto = 0.5          \n",
    "resultados = np.random.binomial(n=n_testes, p=p_acerto, size=n_simulacoes)\n",
    "sucessos = np.sum(resultados >= 7)\n",
    "probabilidade = sucessos / n_simulacoes\n",
    "print(probabilidade*100, \"%\")\n"
   ]
  }
 ],
 "metadata": {
  "kernelspec": {
   "display_name": "base",
   "language": "python",
   "name": "python3"
  },
  "language_info": {
   "codemirror_mode": {
    "name": "ipython",
    "version": 3
   },
   "file_extension": ".py",
   "mimetype": "text/x-python",
   "name": "python",
   "nbconvert_exporter": "python",
   "pygments_lexer": "ipython3",
   "version": "3.12.7"
  }
 },
 "nbformat": 4,
 "nbformat_minor": 5
}
