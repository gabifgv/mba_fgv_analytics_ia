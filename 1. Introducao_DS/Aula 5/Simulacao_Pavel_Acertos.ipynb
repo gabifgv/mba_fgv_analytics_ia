{
 "cells": [
  {
   "cell_type": "markdown",
   "id": "7c4f814a",
   "metadata": {},
   "source": [
    "# Simulação: Pavel tentando adivinhar perguntas binárias (sim/não)\n",
    "Neste notebook, vamos simular o desempenho de uma pessoa (Pavel) tentando adivinhar a resposta de perguntas binárias com probabilidade de acerto de 50%. Ou seja, cada tentativa tem chance de **50% de acerto** e **50% de erro**, como em um chute aleatório entre 'sim' ou 'não'.\n",
    "\n",
    "### Etapas:\n",
    "1. Simular uma única tentativa de Pavel\n",
    "2. Somar o número de acertos em 25 tentativas\n",
    "3. Repetir esse experimento milhares de vezes\n",
    "4. Contabilizar quantas vezes ele acertou 0, 1, ..., 25 vezes\n",
    "5. Representar os resultados graficamente"
   ]
  },
  {
   "cell_type": "code",
   "execution_count": null,
   "id": "72664c03",
   "metadata": {},
   "outputs": [],
   "source": [
    "# Importação de bibliotecas\n",
    "import numpy as np  # para gerar números aleatórios e cálculos vetoriais\n",
    "import pandas as pd  # para tabular e organizar os resultados\n",
    "import matplotlib.pyplot as plt  # para gerar os gráficos\n",
    "import seaborn as sns  # para tornar os gráficos mais bonitos"
   ]
  },
  {
   "cell_type": "markdown",
   "id": "22de94db",
   "metadata": {},
   "source": [
    "## 1. Emulando uma única tentativa de Pavel\n",
    "Vamos simular uma tentativa de adivinhação. Usamos `np.random.choice([0, 1])` para representar o resultado:\n",
    "- 1 representa acerto\n",
    "- 0 representa erro"
   ]
  },
  {
   "cell_type": "code",
   "execution_count": null,
   "id": "74d1c1fe",
   "metadata": {},
   "outputs": [],
   "source": [
    "# Uma tentativa (resultado aleatório: 0 ou 1)\n",
    "np.random.choice([0, 1])"
   ]
  },
  {
   "cell_type": "markdown",
   "id": "08786826",
   "metadata": {},
   "source": [
    "## 2. Simulando 25 tentativas seguidas e somando os acertos\n",
    "Vamos simular 25 tentativas e somar quantos acertos Pavel teve:"
   ]
  },
  {
   "cell_type": "code",
   "execution_count": null,
   "id": "b4fe0511",
   "metadata": {},
   "outputs": [],
   "source": [
    "# Simulando 25 tentativas\n",
    "tentativas = np.random.choice([0, 1], size=25)\n",
    "acertos = tentativas.sum()\n",
    "print(f\"Acertos em 25 tentativas: {acertos}\")"
   ]
  },
  {
   "cell_type": "markdown",
   "id": "18259c14",
   "metadata": {},
   "source": [
    "## 3. Repetindo o experimento muitas vezes\n",
    "Agora vamos repetir esse experimento **100.000 vezes** para entender o comportamento da distribuição de acertos."
   ]
  },
  {
   "cell_type": "code",
   "execution_count": null,
   "id": "f8330417",
   "metadata": {},
   "outputs": [],
   "source": [
    "# Simular 100.000 experimentos de 25 tentativas\n",
    "n_simulacoes = 100_000\n",
    "resultados = np.random.binomial(n=25, p=0.5, size=n_simulacoes)\n",
    "resultados[:10]  # mostrar primeiros resultados"
   ]
  },
  {
   "cell_type": "markdown",
   "id": "154865e5",
   "metadata": {},
   "source": [
    "## 4. Contabilizando os resultados\n",
    "Vamos contar quantas vezes Pavel acertou 0, 1, 2, ..., até 25 vezes. Em seguida, calculamos as frequências relativas (proporções):"
   ]
  },
  {
   "cell_type": "code",
   "execution_count": null,
   "id": "85fa5a42",
   "metadata": {},
   "outputs": [],
   "source": [
    "# Frequências absolutas e relativas\n",
    "frequencia = pd.Series(resultados).value_counts().sort_index()\n",
    "tabela = pd.DataFrame({\n",
    "    'Acertos': frequencia.index,\n",
    "    'Frequência absoluta': frequencia.values,\n",
    "    'Frequência relativa (%)': (frequencia.values / n_simulacoes * 100).round(2)\n",
    "})\n",
    "tabela"
   ]
  },
  {
   "cell_type": "markdown",
   "id": "442ccf45",
   "metadata": {},
   "source": [
    "## 5. Visualizando a distribuição\n",
    "Vamos agora representar a distribuição de acertos com um gráfico de barras:"
   ]
  },
  {
   "cell_type": "code",
   "execution_count": null,
   "id": "fb36cafb",
   "metadata": {},
   "outputs": [],
   "source": [
    "# Gráfico da distribuição\n",
    "plt.figure(figsize=(12,6))\n",
    "sns.barplot(data=tabela, x='Acertos', y='Frequência relativa (%)', color='skyblue')\n",
    "plt.title('Distribuição dos acertos de Pavel em 25 tentativas')\n",
    "plt.ylabel('Frequência relativa (%)')\n",
    "plt.xlabel('Número de acertos')\n",
    "plt.xticks(rotation=0)\n",
    "plt.grid(axis='y', linestyle='--', alpha=0.7)\n",
    "plt.show()"
   ]
  },
  {
   "cell_type": "markdown",
   "id": "b5955349",
   "metadata": {},
   "source": [
    "### ✅ Conclusão:\n",
    "- Como as chances de acerto são 50%, a maioria dos experimentos resultou em algo próximo de 12 ou 13 acertos.\n",
    "- A distribuição é simétrica, como uma curva em forma de sino (distribuição binomial).\n",
    "- Poucos experimentos resultaram em extremos como 0 ou 25 acertos."
   ]
  }
 ],
 "metadata": {},
 "nbformat": 4,
 "nbformat_minor": 5
}
