{
 "cells": [
  {
   "cell_type": "markdown",
   "id": "7c4f814a",
   "metadata": {},
   "source": [
    "# Simulação: Pavel tentando adivinhar perguntas binárias (sim/não)\n",
    "Neste notebook, vamos simular o desempenho de uma pessoa (Pavel) tentando adivinhar a resposta de perguntas binárias com probabilidade de acerto de 50%. Ou seja, cada tentativa tem chance de **50% de acerto** e **50% de erro**, como em um chute aleatório entre 'sim' ou 'não'.\n",
    "\n",
    "### Etapas:\n",
    "1. Simular uma única tentativa de Pavel\n",
    "2. Somar o número de acertos em 25 tentativas\n",
    "3. Repetir esse experimento milhares de vezes\n",
    "4. Contabilizar quantas vezes ele acertou 0, 1, ..., 25 vezes\n",
    "5. Representar os resultados graficamente"
   ]
  },
  {
   "cell_type": "code",
   "execution_count": 1,
   "id": "72664c03",
   "metadata": {},
   "outputs": [],
   "source": [
    "# Importação de bibliotecas\n",
    "import numpy as np  # para gerar números aleatórios e cálculos vetoriais\n",
    "import pandas as pd  # para tabular e organizar os resultados\n",
    "import matplotlib.pyplot as plt  # para gerar os gráficos\n",
    "import seaborn as sns  # para tornar os gráficos mais bonitos"
   ]
  },
  {
   "cell_type": "markdown",
   "id": "22de94db",
   "metadata": {},
   "source": [
    "## 1. Emulando uma única tentativa de Pavel\n",
    "Vamos simular uma tentativa de adivinhação. Usamos `np.random.choice([0, 1])` para representar o resultado:\n",
    "- 1 representa acerto\n",
    "- 0 representa erro"
   ]
  },
  {
   "cell_type": "code",
   "execution_count": 2,
   "id": "74d1c1fe",
   "metadata": {},
   "outputs": [
    {
     "data": {
      "text/plain": [
       "1"
      ]
     },
     "execution_count": 2,
     "metadata": {},
     "output_type": "execute_result"
    }
   ],
   "source": [
    "# Uma tentativa (resultado aleatório: 0 ou 1)\n",
    "np.random.choice([0, 1])"
   ]
  },
  {
   "cell_type": "markdown",
   "id": "08786826",
   "metadata": {},
   "source": [
    "## 2. Simulando 25 tentativas seguidas e somando os acertos\n",
    "Vamos simular 25 tentativas e somar quantos acertos Pavel teve:"
   ]
  },
  {
   "cell_type": "code",
   "execution_count": 3,
   "id": "b4fe0511",
   "metadata": {},
   "outputs": [
    {
     "name": "stdout",
     "output_type": "stream",
     "text": [
      "Acertos em 25 tentativas: 11\n"
     ]
    }
   ],
   "source": [
    "# Simulando 25 tentativas\n",
    "tentativas = np.random.choice([0, 1], size=25)\n",
    "acertos = tentativas.sum()\n",
    "print(f\"Acertos em 25 tentativas: {acertos}\")"
   ]
  },
  {
   "cell_type": "markdown",
   "id": "18259c14",
   "metadata": {},
   "source": [
    "## 3. Repetindo o experimento muitas vezes\n",
    "Agora vamos repetir esse experimento **100.000 vezes** para entender o comportamento da distribuição de acertos."
   ]
  },
  {
   "cell_type": "code",
   "execution_count": 4,
   "id": "f8330417",
   "metadata": {},
   "outputs": [
    {
     "data": {
      "text/plain": [
       "array([10,  9, 13, 13, 11, 14, 13,  8, 13, 11])"
      ]
     },
     "execution_count": 4,
     "metadata": {},
     "output_type": "execute_result"
    }
   ],
   "source": [
    "# Simular 100.000 experimentos de 25 tentativas\n",
    "n_simulacoes = 100_000\n",
    "resultados = np.random.binomial(n=25, p=0.5, size=n_simulacoes)\n",
    "resultados[:10]  # mostrar primeiros resultados"
   ]
  },
  {
   "cell_type": "markdown",
   "id": "154865e5",
   "metadata": {},
   "source": [
    "## 4. Contabilizando os resultados\n",
    "Vamos contar quantas vezes Pavel acertou 0, 1, 2, ..., até 25 vezes. Em seguida, calculamos as frequências relativas (proporções):"
   ]
  },
  {
   "cell_type": "code",
   "execution_count": 5,
   "id": "85fa5a42",
   "metadata": {},
   "outputs": [
    {
     "data": {
      "text/html": [
       "<div>\n",
       "<style scoped>\n",
       "    .dataframe tbody tr th:only-of-type {\n",
       "        vertical-align: middle;\n",
       "    }\n",
       "\n",
       "    .dataframe tbody tr th {\n",
       "        vertical-align: top;\n",
       "    }\n",
       "\n",
       "    .dataframe thead th {\n",
       "        text-align: right;\n",
       "    }\n",
       "</style>\n",
       "<table border=\"1\" class=\"dataframe\">\n",
       "  <thead>\n",
       "    <tr style=\"text-align: right;\">\n",
       "      <th></th>\n",
       "      <th>Acertos</th>\n",
       "      <th>Frequência absoluta</th>\n",
       "      <th>Frequência relativa (%)</th>\n",
       "    </tr>\n",
       "  </thead>\n",
       "  <tbody>\n",
       "    <tr>\n",
       "      <th>0</th>\n",
       "      <td>2</td>\n",
       "      <td>1</td>\n",
       "      <td>0.00</td>\n",
       "    </tr>\n",
       "    <tr>\n",
       "      <th>1</th>\n",
       "      <td>3</td>\n",
       "      <td>5</td>\n",
       "      <td>0.00</td>\n",
       "    </tr>\n",
       "    <tr>\n",
       "      <th>2</th>\n",
       "      <td>4</td>\n",
       "      <td>37</td>\n",
       "      <td>0.04</td>\n",
       "    </tr>\n",
       "    <tr>\n",
       "      <th>3</th>\n",
       "      <td>5</td>\n",
       "      <td>129</td>\n",
       "      <td>0.13</td>\n",
       "    </tr>\n",
       "    <tr>\n",
       "      <th>4</th>\n",
       "      <td>6</td>\n",
       "      <td>564</td>\n",
       "      <td>0.56</td>\n",
       "    </tr>\n",
       "    <tr>\n",
       "      <th>5</th>\n",
       "      <td>7</td>\n",
       "      <td>1460</td>\n",
       "      <td>1.46</td>\n",
       "    </tr>\n",
       "    <tr>\n",
       "      <th>6</th>\n",
       "      <td>8</td>\n",
       "      <td>3238</td>\n",
       "      <td>3.24</td>\n",
       "    </tr>\n",
       "    <tr>\n",
       "      <th>7</th>\n",
       "      <td>9</td>\n",
       "      <td>5966</td>\n",
       "      <td>5.97</td>\n",
       "    </tr>\n",
       "    <tr>\n",
       "      <th>8</th>\n",
       "      <td>10</td>\n",
       "      <td>9784</td>\n",
       "      <td>9.78</td>\n",
       "    </tr>\n",
       "    <tr>\n",
       "      <th>9</th>\n",
       "      <td>11</td>\n",
       "      <td>13181</td>\n",
       "      <td>13.18</td>\n",
       "    </tr>\n",
       "    <tr>\n",
       "      <th>10</th>\n",
       "      <td>12</td>\n",
       "      <td>15603</td>\n",
       "      <td>15.60</td>\n",
       "    </tr>\n",
       "    <tr>\n",
       "      <th>11</th>\n",
       "      <td>13</td>\n",
       "      <td>15503</td>\n",
       "      <td>15.50</td>\n",
       "    </tr>\n",
       "    <tr>\n",
       "      <th>12</th>\n",
       "      <td>14</td>\n",
       "      <td>13355</td>\n",
       "      <td>13.36</td>\n",
       "    </tr>\n",
       "    <tr>\n",
       "      <th>13</th>\n",
       "      <td>15</td>\n",
       "      <td>9679</td>\n",
       "      <td>9.68</td>\n",
       "    </tr>\n",
       "    <tr>\n",
       "      <th>14</th>\n",
       "      <td>16</td>\n",
       "      <td>6043</td>\n",
       "      <td>6.04</td>\n",
       "    </tr>\n",
       "    <tr>\n",
       "      <th>15</th>\n",
       "      <td>17</td>\n",
       "      <td>3223</td>\n",
       "      <td>3.22</td>\n",
       "    </tr>\n",
       "    <tr>\n",
       "      <th>16</th>\n",
       "      <td>18</td>\n",
       "      <td>1494</td>\n",
       "      <td>1.49</td>\n",
       "    </tr>\n",
       "    <tr>\n",
       "      <th>17</th>\n",
       "      <td>19</td>\n",
       "      <td>530</td>\n",
       "      <td>0.53</td>\n",
       "    </tr>\n",
       "    <tr>\n",
       "      <th>18</th>\n",
       "      <td>20</td>\n",
       "      <td>154</td>\n",
       "      <td>0.15</td>\n",
       "    </tr>\n",
       "    <tr>\n",
       "      <th>19</th>\n",
       "      <td>21</td>\n",
       "      <td>40</td>\n",
       "      <td>0.04</td>\n",
       "    </tr>\n",
       "    <tr>\n",
       "      <th>20</th>\n",
       "      <td>22</td>\n",
       "      <td>11</td>\n",
       "      <td>0.01</td>\n",
       "    </tr>\n",
       "  </tbody>\n",
       "</table>\n",
       "</div>"
      ],
      "text/plain": [
       "    Acertos  Frequência absoluta  Frequência relativa (%)\n",
       "0         2                    1                     0.00\n",
       "1         3                    5                     0.00\n",
       "2         4                   37                     0.04\n",
       "3         5                  129                     0.13\n",
       "4         6                  564                     0.56\n",
       "5         7                 1460                     1.46\n",
       "6         8                 3238                     3.24\n",
       "7         9                 5966                     5.97\n",
       "8        10                 9784                     9.78\n",
       "9        11                13181                    13.18\n",
       "10       12                15603                    15.60\n",
       "11       13                15503                    15.50\n",
       "12       14                13355                    13.36\n",
       "13       15                 9679                     9.68\n",
       "14       16                 6043                     6.04\n",
       "15       17                 3223                     3.22\n",
       "16       18                 1494                     1.49\n",
       "17       19                  530                     0.53\n",
       "18       20                  154                     0.15\n",
       "19       21                   40                     0.04\n",
       "20       22                   11                     0.01"
      ]
     },
     "execution_count": 5,
     "metadata": {},
     "output_type": "execute_result"
    }
   ],
   "source": [
    "# Frequências absolutas e relativas\n",
    "frequencia = pd.Series(resultados).value_counts().sort_index()\n",
    "tabela = pd.DataFrame({\n",
    "    'Acertos': frequencia.index,\n",
    "    'Frequência absoluta': frequencia.values,\n",
    "    'Frequência relativa (%)': (frequencia.values / n_simulacoes * 100).round(2)\n",
    "})\n",
    "tabela"
   ]
  },
  {
   "cell_type": "markdown",
   "id": "442ccf45",
   "metadata": {},
   "source": [
    "## 5. Visualizando a distribuição\n",
    "Vamos agora representar a distribuição de acertos com um gráfico de barras:"
   ]
  },
  {
   "cell_type": "code",
   "execution_count": 6,
   "id": "fb36cafb",
   "metadata": {},
   "outputs": [
    {
     "data": {
      "image/png": "[encoded data removed]",
      "text/plain": [
       "<Figure size 1200x600 with 1 Axes>"
      ]
     },
     "metadata": {},
     "output_type": "display_data"
    }
   ],
   "source": [
    "# Gráfico da distribuição\n",
    "plt.figure(figsize=(12,6))\n",
    "sns.barplot(data=tabela, x='Acertos', y='Frequência relativa (%)', color='skyblue')\n",
    "plt.title('Distribuição dos acertos de Pavel em 25 tentativas')\n",
    "plt.ylabel('Frequência relativa (%)')\n",
    "plt.xlabel('Número de acertos')\n",
    "plt.xticks(rotation=0)\n",
    "plt.grid(axis='y', linestyle='--', alpha=0.7)\n",
    "plt.show()"
   ]
  },
  {
   "cell_type": "markdown",
   "id": "b5955349",
   "metadata": {},
   "source": [
    "### ✅ Conclusão:\n",
    "- Como as chances de acerto são 50%, a maioria dos experimentos resultou em algo próximo de 12 ou 13 acertos.\n",
    "- A distribuição é simétrica, como uma curva em forma de sino (distribuição binomial).\n",
    "- Poucos experimentos resultaram em extremos como 0 ou 25 acertos."
   ]
  }
 ],
 "metadata": {
  "kernelspec": {
   "display_name": "base",
   "language": "python",
   "name": "python3"
  },
  "language_info": {
   "codemirror_mode": {
    "name": "ipython",
    "version": 3
   },
   "file_extension": ".py",
   "mimetype": "text/x-python",
   "name": "python",
   "nbconvert_exporter": "python",
   "pygments_lexer": "ipython3",
   "version": "3.12.7"
  }
 },
 "nbformat": 4,
 "nbformat_minor": 5
}
