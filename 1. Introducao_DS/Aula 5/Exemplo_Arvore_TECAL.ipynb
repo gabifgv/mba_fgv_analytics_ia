{
 "cells": [
  {
   "cell_type": "markdown",
   "id": "4a11405d",
   "metadata": {},
   "source": [
    "# Introdução à Modelagem Preditiva com Árvores de Decisão\n",
    "Este notebook apresenta, de forma simples e visual, como aplicar uma **árvore de decisão** para prever o cancelamento de clientes, usando a base de dados TECAL.\n",
    "\n",
    "Vamos seguir os seguintes passos:\n",
    "1. Importar a base de dados\n",
    "2. Explorar rapidamente os dados\n",
    "3. Separar os dados em treino e teste\n",
    "4. Ajustar um modelo de árvore de decisão\n",
    "5. Visualizar a árvore e interpretar os resultados\n"
   ]
  },
  {
   "cell_type": "code",
   "execution_count": null,
   "id": "b02a2990",
   "metadata": {},
   "outputs": [],
   "source": [
    "# 1. Importação de bibliotecas\n",
    "import pandas as pd\n",
    "import matplotlib.pyplot as plt\n",
    "import seaborn as sns\n",
    "from sklearn.model_selection import train_test_split\n",
    "from sklearn.tree import DecisionTreeClassifier, plot_tree\n",
    "from sklearn.metrics import accuracy_score, ConfusionMatrixDisplay"
   ]
  },
  {
   "cell_type": "code",
   "execution_count": null,
   "id": "0261f9b2",
   "metadata": {},
   "outputs": [],
   "source": [
    "# 2. Leitura da base TECAL\n",
    "df = pd.read_excel(\"TECAL.xlsx\")\n",
    "df = df.drop(columns=df.columns[0])  # Remove a coluna de ID\n",
    "df.head()"
   ]
  },
  {
   "cell_type": "code",
   "execution_count": null,
   "id": "f38e969b",
   "metadata": {},
   "outputs": [],
   "source": [
    "# 3. Divisão entre treino e teste (60% treino, 40% teste)\n",
    "X = df.drop(columns='cancel')\n",
    "y = df['cancel']\n",
    "X_train, X_test, y_train, y_test = train_test_split(X, y, stratify=y, test_size=0.4, random_state=42)"
   ]
  },
  {
   "cell_type": "code",
   "execution_count": null,
   "id": "e30fb275",
   "metadata": {},
   "outputs": [],
   "source": [
    "# 4. Criação e ajuste da árvore de decisão\n",
    "modelo_arvore = DecisionTreeClassifier(max_depth=4, random_state=42)\n",
    "modelo_arvore.fit(X_train, y_train)"
   ]
  },
  {
   "cell_type": "code",
   "execution_count": null,
   "id": "8e01a895",
   "metadata": {},
   "outputs": [],
   "source": [
    "# 5. Visualização da árvore gerada\n",
    "plt.figure(figsize=(20, 6))\n",
    "plot_tree(modelo_arvore, feature_names=X.columns, class_names=modelo_arvore.classes_, filled=True)\n",
    "plt.title(\"Árvore de Decisão para Cancelamento\")\n",
    "plt.show()"
   ]
  },
  {
   "cell_type": "code",
   "execution_count": null,
   "id": "22e733c8",
   "metadata": {},
   "outputs": [],
   "source": [
    "# 6. Avaliação da acurácia no conjunto de teste\n",
    "y_pred = modelo_arvore.predict(X_test)\n",
    "print(\"Acurácia no teste:\", accuracy_score(y_test, y_pred))\n",
    "ConfusionMatrixDisplay.from_predictions(y_test, y_pred, display_labels=['sim','nao'])\n",
    "plt.title(\"Matriz de Confusão - Teste\")\n",
    "plt.show()"
   ]
  },
  {
   "cell_type": "markdown",
   "id": "e2626209",
   "metadata": {},
   "source": [
    "🎯 **Conclusão:**\n",
    "Este exemplo mostrou como é possível usar uma árvore de decisão simples para prever o comportamento de clientes. Árvores são uma ótima forma de começar a aprender sobre modelos preditivos, pois sua estrutura é fácil de visualizar e interpretar."
   ]
  }
 ],
 "metadata": {},
 "nbformat": 4,
 "nbformat_minor": 5
}
