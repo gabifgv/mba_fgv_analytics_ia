{
 "cells": [
  {
   "cell_type": "code",
   "execution_count": 1,
   "id": "b2e38210",
   "metadata": {},
   "outputs": [],
   "source": [
    "## GABRIELLA PINHEIRO\n",
    "## GUILHERME ROSSAN\n",
    "## LIZ BORGES\n",
    "## GABRIEL COUTINHO"
   ]
  },
  {
   "cell_type": "code",
   "execution_count": null,
   "id": "17655e18",
   "metadata": {},
   "outputs": [],
   "source": [
    "import numpy as np"
   ]
  },
  {
   "cell_type": "code",
   "execution_count": null,
   "id": "3dabc4d8",
   "metadata": {},
   "outputs": [
    {
     "name": "stdout",
     "output_type": "stream",
     "text": [
      "3.52622 %\n"
     ]
    }
   ],
   "source": [
    "import numpy as np\n",
    "n_simulacoes = 200000  \n",
    "n_testes = 8            \n",
    "p_acerto = 0.5          \n",
    "resultados = np.random.binomial(n=n_testes, p=p_acerto, size=n_simulacoes)\n",
    "sucessos = np.sum(resultados >= 7)\n",
    "probabilidade = sucessos / n_simulacoes\n",
    "print(probabilidade*100, \"%\")\n"
   ]
  },
  {
   "cell_type": "code",
   "execution_count": null,
   "id": "772f2770",
   "metadata": {},
   "outputs": [],
   "source": [
    "# Importação de bibliotecas\n",
    "import numpy as np  # para gerar números aleatórios e cálculos vetoriais\n",
    "import pandas as pd  # para tabular e organizar os resultados\n",
    "import matplotlib.pyplot as plt  # para gerar os gráficos\n",
    "import seaborn as sns  # para tornar os gráficos mais bonitos\n",
    "\n",
    "np.random.choice([0, 1])\n",
    "\n",
    "tentativas = np.random.choice([0, 1], size=8)\n",
    "acertos = tentativas.sum()\n",
    "print(f\"Acertos em 8 tentativas: {acertos}\")\n",
    "\n",
    "n_simulacoes = 8\n",
    "resultados = np.random.binomial(n=8, p=0.5, size=n_simulacoes)\n",
    "resultados\n",
    "\n",
    "frequencia = pd.Series(resultados).value_counts().sort_index()\n",
    "tabela = pd.DataFrame({\n",
    "    'Acertos': frequencia.index,\n",
    "    'Frequência absoluta': frequencia.values,\n",
    "    'Frequência relativa (%)': (frequencia.values / n_simulacoes * 100).round(2)\n",
    "})\n",
    "tabela\n",
    "\n",
    "plt.figure(figsize=(12,6))\n",
    "sns.barplot(data=tabela, x='Acertos', y='Frequência relativa (%)', color='skyblue')\n",
    "plt.title('Distribuição dos acertos de Pavel em 25 tentativas')\n",
    "plt.ylabel('Frequência relativa (%)')\n",
    "plt.xlabel('Número de acertos')\n",
    "plt.xticks(rotation=0)\n",
    "plt.grid(axis='y', linestyle='--', alpha=0.7)\n",
    "plt.show()\n",
    "\n",
    "\n"
   ]
  }
 ],
 "metadata": {
  "kernelspec": {
   "display_name": "base",
   "language": "python",
   "name": "python3"
  },
  "language_info": {
   "codemirror_mode": {
    "name": "ipython",
    "version": 3
   },
   "file_extension": ".py",
   "mimetype": "text/x-python",
   "name": "python",
   "nbconvert_exporter": "python",
   "pygments_lexer": "ipython3",
   "version": "3.12.7"
  }
 },
 "nbformat": 4,
 "nbformat_minor": 5
}
