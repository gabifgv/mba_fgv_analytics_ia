{
 "cells": [
  {
   "cell_type": "markdown",
   "metadata": {
    "id": "2zQVHMZ2mkD8"
   },
   "source": [
    "# Funções"
   ]
  },
  {
   "cell_type": "markdown",
   "metadata": {
    "id": "SI1iYQexkSMJ"
   },
   "source": [
    "**Funções** permitem encapsular certos procedimentos, de modo que:\n",
    "\n",
    "\n",
    "*   você apenas **chama a função**, não precisa entender o código dentro dela;\n",
    "*   você pode chamar a mesma função várias vezes\n"
   ]
  },
  {
   "cell_type": "markdown",
   "metadata": {
    "id": "aXczuAv4s1Wj"
   },
   "source": [
    "O mundo das variáveis dentro de uma função é completamente separado! A única comunicação é através de:\n",
    "* **parâmetros** - que passam informações **do programa principal para a função**\n",
    "* **retorno** - que passa informação **da função** **para o programa** **principal**\n"
   ]
  },
  {
   "cell_type": "code",
   "execution_count": null,
   "metadata": {
    "id": "6DUpdQ7g5yBw"
   },
   "outputs": [],
   "source": [
    "def soma10(x):\n",
    "  return x+10\n"
   ]
  },
  {
   "cell_type": "code",
   "execution_count": null,
   "metadata": {
    "id": "M3pUPUMB0pHC"
   },
   "outputs": [],
   "source": [
    "resultado = soma10(13)\n",
    "print(resultado)"
   ]
  },
  {
   "cell_type": "code",
   "execution_count": null,
   "metadata": {
    "id": "qRntf4kVtNyh"
   },
   "outputs": [],
   "source": [
    "print(soma10(20))\n",
    "print(soma10(21))\n",
    "print(soma10(soma10(1)))\n"
   ]
  },
  {
   "cell_type": "code",
   "execution_count": null,
   "metadata": {
    "id": "0spvA4pzvHZA"
   },
   "outputs": [],
   "source": [
    "def imprimePoesia():\n",
    "  print('Batatinha quando nasce, espalha ramas pelo chão.')\n",
    "  print('Menininha, quando dorme, põe a mão no coração.')\n",
    "\n",
    "for i in range(7):\n",
    "  imprimePoesia()"
   ]
  },
  {
   "cell_type": "code",
   "execution_count": null,
   "metadata": {
    "id": "SneZWYs12P9Q"
   },
   "outputs": [],
   "source": [
    "# Algumas funções exigem mais de um parâmetro (repare que a ordem dos parâmetro é importante)\n",
    "def multidiv(a, b, c):\n",
    "    return a*b/c\n",
    "\n",
    "print(multidiv(1, 2, 3))"
   ]
  },
  {
   "cell_type": "code",
   "execution_count": 2,
   "metadata": {
    "id": "wBWh6G_12qeB"
   },
   "outputs": [
    {
     "data": {
      "text/plain": [
       "4.0"
      ]
     },
     "execution_count": 2,
     "metadata": {},
     "output_type": "execute_result"
    }
   ],
   "source": [
    "# Se não quiser se preocupar com a ordem dos parâmetros...\n",
    "def mm(a, b, c):\n",
    "    return a*b/c\n",
    "\n",
    "mm(c=3, a=1, b=12)"
   ]
  },
  {
   "cell_type": "code",
   "execution_count": null,
   "metadata": {},
   "outputs": [],
   "source": []
  }
 ],
 "metadata": {
  "colab": {
   "provenance": []
  },
  "kernelspec": {
   "display_name": "Python [conda env:base] *",
   "language": "python",
   "name": "conda-base-py"
  },
  "language_info": {
   "codemirror_mode": {
    "name": "ipython",
    "version": 3
   },
   "file_extension": ".py",
   "mimetype": "text/x-python",
   "name": "python",
   "nbconvert_exporter": "python",
   "pygments_lexer": "ipython3",
   "version": "3.12.7"
  }
 },
 "nbformat": 4,
 "nbformat_minor": 4
}
