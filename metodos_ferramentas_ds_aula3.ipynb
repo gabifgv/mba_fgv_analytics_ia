{
 "cells": [
  {
   "cell_type": "markdown",
   "id": "3eca273e",
   "metadata": {},
   "source": [
    "## Aula 3"
   ]
  },
  {
   "cell_type": "code",
   "execution_count": 2,
   "id": "35bd209b",
   "metadata": {},
   "outputs": [
    {
     "name": "stdout",
     "output_type": "stream",
     "text": [
      "Chapeuzinho foi visitar a vovó.\n",
      "Ela parou para colher flores. O lobo chegou antes!\n",
      "O lenhador ouviu e salvou todo mundo! 🎉\n"
     ]
    }
   ],
   "source": [
    "print(\"Chapeuzinho foi visitar a vovó.\")\n",
    "\n",
    "caminho = input(\"Ela escolhe o caminho das flores ou o caminho escuro? (digite: flores ou escuro): \")\n",
    "\n",
    "if caminho == \"flores\":\n",
    "    print(\"Ela parou para colher flores. O lobo chegou antes!\")\n",
    "elif caminho == \"escuro\":\n",
    "    print(\"Ela chegou rápido na casa da vovó.\")\n",
    "else:\n",
    "    print(\"Caminho inválido.\")\n",
    "\n",
    "acao = input(\"Ela pode gritar por socorro ou fugir correndo. O que ela faz? (digite: gritar ou fugir): \")\n",
    "\n",
    "if acao == \"gritar\":\n",
    "    print(\"O lenhador ouviu e salvou todo mundo! 🎉\")\n",
    "elif acao == \"fugir\":\n",
    "    print(\"Ela fugiu, mas o lobo ficou na casa... 😬\")\n",
    "else:\n",
    "    print(\"Ação inválida.\")\n"
   ]
  },
  {
   "cell_type": "code",
   "execution_count": null,
   "id": "00fde1c6",
   "metadata": {},
   "outputs": [
    {
     "name": "stdout",
     "output_type": "stream",
     "text": [
      "\n",
      "O motorista pagará: R$ 20.00\n",
      "Cada um dos demais amigos pagará: R$ 22.50\n"
     ]
    }
   ],
   "source": [
    "# Exercício: Calculadora de Restaurante (Desafio 220)\n",
    "# \n",
    "# Construa uma calculadora para amigos que vão juntos a restaurantes.\n",
    "# Aquele que vai dirigir não paga os 10% de serviço.\n",
    "# \n",
    "# O programa deve:\n",
    "# - Perguntar o valor da conta (sem o serviço).\n",
    "# - Perguntar o número de amigos na mesa (incluindo o motorista).\n",
    "# \n",
    "# A saída deve informar:\n",
    "# - Quanto o \"motorista\" pagará.\n",
    "# - Quanto cada um dos demais amigos pagará (incluindo os 10% de serviço).\n",
    "\n",
    "\n",
    "# Entrada dos dados\n",
    "valor_conta = float(input(\"Qual o valor da conta (sem os 10%)? \")) \n",
    "#input() retorna string, então convertemos para float - é comando para inserir um dado\n",
    "num_amigos = int(input(\"Quantas pessoas estão na mesa (incluindo o motorista)? \"))\n",
    "\n",
    "# Calcular 10% de serviço\n",
    "servico = valor_conta * 0.10\n",
    "total_com_servico = valor_conta + servico\n",
    "\n",
    "# O motorista não paga os 10%\n",
    "valor_motorista = valor_conta / num_amigos\n",
    "\n",
    "# Os outros amigos pagam com os 10%\n",
    "valor_restante = total_com_servico - valor_motorista\n",
    "valor_por_amigo = valor_restante / (num_amigos - 1)\n",
    "\n",
    "# Resultados\n",
    "print(f\"\\nO motorista pagará: R$ {valor_motorista:.2f}\")\n",
    "print(f\"Cada um dos demais amigos pagará: R$ {valor_por_amigo:.2f}\")\n"
   ]
  },
  {
   "cell_type": "code",
   "execution_count": 4,
   "id": "e71b63dc",
   "metadata": {},
   "outputs": [
    {
     "name": "stdout",
     "output_type": "stream",
     "text": [
      "O motorista pagará 8.666666666666666\n",
      "Os demais pagarão 9.706666666666667\n"
     ]
    }
   ],
   "source": [
    "conta = input(\"Digite o valor da conta sem os 10%: \")\n",
    "# Note que o resultado armazenado em conta será uma string.\n",
    "# Você pode verificar executando o comando type(conta) \n",
    "# Agora, transformamos a string em float:\n",
    "conta = float(conta)\n",
    "n = input(\"Digite o número de pessoas na mesa: \")\n",
    "# Mesmo raciocínio aqui, mas como o número de pessoas é inteiro, podemos fazer a transformação de string para int\n",
    "n = int(n)\n",
    "motorista = conta/n\n",
    "demais = (conta * 1.1 - motorista) / (n-1)\n",
    "print(\"O motorista pagará\", motorista)\n",
    "print(\"Os demais pagarão\", demais)"
   ]
  },
  {
   "cell_type": "code",
   "execution_count": 6,
   "id": "bb043e35",
   "metadata": {},
   "outputs": [
    {
     "name": "stdout",
     "output_type": "stream",
     "text": [
      "O motorista pagará 69.82\n",
      "Os demais pagarão 77.8\n"
     ]
    }
   ],
   "source": [
    "# Uma alternativa mais econômica:\n",
    "conta = float(input(\"Digite o valor da conta sem os 10%: \"))\n",
    "n = int(input(\"Digite o número de pessoas na mesa: \"))\n",
    "motorista = conta/n\n",
    "demais = (conta * 1.1 - motorista) / (n-1)\n",
    "print(\"O motorista pagará\", round(motorista, 2))                      # round(x, 2) é uma função que arredonda x para duas casas decimais!!\n",
    "print(\"Os demais pagarão\", round( demais, 2))\n"
   ]
  },
  {
   "cell_type": "code",
   "execution_count": 9,
   "id": "81032e43",
   "metadata": {},
   "outputs": [
    {
     "name": "stdout",
     "output_type": "stream",
     "text": [
      "enrascada\n"
     ]
    }
   ],
   "source": [
    "numero = int(input(\"Digite um número inteiro: \"))\n",
    "\n",
    "if numero < 0:\n",
    "    print(\"segura\")  # não atravessa\n",
    "else:\n",
    "    # atravessa\n",
    "    if numero % 2 == 0:\n",
    "        encontrou_lobo = True\n",
    "    else:\n",
    "        encontrou_lobo = False\n",
    "\n",
    "    if numero % 3 == 0:\n",
    "        lobo_com_fome = True\n",
    "    else:\n",
    "        lobo_com_fome = False\n",
    "\n",
    "    if numero % 5 == 0:\n",
    "        lobo_com_gula = True\n",
    "    else:\n",
    "        lobo_com_gula = False\n",
    "\n",
    "    # avaliar o que acontece\n",
    "    if encontrou_lobo:\n",
    "        if lobo_com_fome:\n",
    "            print(\"enrascada\")\n",
    "        else:\n",
    "            if lobo_com_gula:\n",
    "                print(\"enrascada\")\n",
    "            else:\n",
    "                print(\"segura\")\n",
    "    else:\n",
    "        print(\"segura\")\n"
   ]
  },
  {
   "cell_type": "code",
   "execution_count": null,
   "id": "64c5f9a0",
   "metadata": {},
   "outputs": [
    {
     "name": "stdout",
     "output_type": "stream",
     "text": [
      "segura\n"
     ]
    }
   ],
   "source": [
    "num = int(input(\"Informe um número inteiro: \"))\n",
    "\n",
    "if num < 0:\n",
    "    # Chapeuzinho não atravessa a floresta\n",
    "    print(\"segura\")\n",
    "else:\n",
    "    # Chapeuzinho atravessa\n",
    "    if num % 2 == 0:\n",
    "        # Ela encontra o lobo\n",
    "        if num % 3 == 0:\n",
    "            # Lobo com fome\n",
    "            print(\"enrascada\")\n",
    "        else:\n",
    "            if num % 5 == 0:\n",
    "                # Lobo com gula\n",
    "                print(\"enrascada\")\n",
    "            else:\n",
    "                # Lobo tranquilo\n",
    "                print(\"segura\")\n",
    "    else:\n",
    "        # Não encontra o lobo\n",
    "        print(\"segura\")\n"
   ]
  },
  {
   "cell_type": "code",
   "execution_count": 11,
   "id": "51655d99",
   "metadata": {},
   "outputs": [
    {
     "name": "stdout",
     "output_type": "stream",
     "text": [
      "segura\n"
     ]
    }
   ],
   "source": [
    "num = int(input(\"Informe um número inteiro: \"))\n",
    "\n",
    "if num < 0:\n",
    "    print(\"segura\")  # Não atravessa\n",
    "elif num % 2 == 0 and (num % 3 == 0 or num % 5 == 0):\n",
    "    print(\"enrascada\")  # Atravessa, encontra o lobo E ele está com fome ou gula\n",
    "else:\n",
    "    print(\"segura\")  # Todas as outras situações\n"
   ]
  }
 ],
 "metadata": {
  "kernelspec": {
   "display_name": "base",
   "language": "python",
   "name": "python3"
  },
  "language_info": {
   "codemirror_mode": {
    "name": "ipython",
    "version": 3
   },
   "file_extension": ".py",
   "mimetype": "text/x-python",
   "name": "python",
   "nbconvert_exporter": "python",
   "pygments_lexer": "ipython3",
   "version": "3.12.7"
  }
 },
 "nbformat": 4,
 "nbformat_minor": 5
}
