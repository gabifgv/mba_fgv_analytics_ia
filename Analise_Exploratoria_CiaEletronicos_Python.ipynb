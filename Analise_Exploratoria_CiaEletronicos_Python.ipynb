{
 "cells": [
  {
   "cell_type": "markdown",
   "id": "ded15241",
   "metadata": {},
   "source": [
    "# Métodos e Ferramentas de Data Science\n",
    "## Aula 3: Análise Exploratória de Dados (Introdução às bibliotecas pandas e matplotlib.pyplot)\n",
    "### Exemplo: Cia Eletrônicos"
   ]
  },
  {
   "cell_type": "markdown",
   "id": "4dae7fe6",
   "metadata": {},
   "source": [
    "## Carregando bibliotecas necessárias\n",
    "Usaremos os pacotes `pandas` para manipulação de dados. Para visualizações, usaremos `matplotlib` (pyplot) e `seaborn`."
   ]
  },
  {
   "cell_type": "code",
   "execution_count": 1,
   "id": "7eebcaf9",
   "metadata": {},
   "outputs": [],
   "source": [
    "import pandas as pd    \n",
    "# importa (deixa disponível para uso) a biblioteca pandas, usada para manipulação e análise de dados.\n",
    "# O apelido pd é só uma convenção para facilitar o uso (em vez de escrever pandas.DataFrame(), poderemos escrever pd.DataFrame()).\n",
    "# Essa biblioteca contém diversas funções úteis, por exemplo para lermos arquivos em Excel, CSV etc. (pd.read_excel, pd.read_csv), \n",
    "# manipular tabelas (DataFrames), agrupar, filtrar, transformar dados, calcular estatísticas como medidas de posição e de dispersão etc.\n",
    "\n",
    "import matplotlib.pyplot as plt    \n",
    "# essa linha importa a biblioteca matplotlib, mais especificamente o módulo pyplot, usado para fazer gráficos.\n",
    "# Assim como chamamos pandas de pd, aqui estamos 'apelidando' o módulo de plt. Nele, há funções que nos permitem criar diversos tipos de gráficos.\n",
    "\n",
    "import seaborn as sns    \n",
    "# Essa biblioteca estende o matplotlib com gráficos estatísticos mais bonitos e fáceis de usar.\n",
    "# Permite criar boxplots, violinplots, heatmaps, gráficos de dispersão com regressão, etc.\n",
    "\n",
    "%matplotlib inline    \n",
    "# magic command. Serve para mostrar os gráficos diretamente dentro do notebook, logo abaixo da célula de código. \n",
    "# Sem essa linha, os gráficos podem não aparecer automaticamente ou abrir em janelas separadas."
   ]
  },
  {
   "cell_type": "markdown",
   "id": "3fac4c51",
   "metadata": {},
   "source": [
    "## Importar a base de dados\n",
    "Aqui, vamos carregar a planilha Excel `Cia_Eletronicos.xlsx`."
   ]
  },
  {
   "cell_type": "code",
   "execution_count": 2,
   "id": "25236c5e",
   "metadata": {},
   "outputs": [
    {
     "data": {
      "text/html": [
       "<div>\n",
       "<style scoped>\n",
       "    .dataframe tbody tr th:only-of-type {\n",
       "        vertical-align: middle;\n",
       "    }\n",
       "\n",
       "    .dataframe tbody tr th {\n",
       "        vertical-align: top;\n",
       "    }\n",
       "\n",
       "    .dataframe thead th {\n",
       "        text-align: right;\n",
       "    }\n",
       "</style>\n",
       "<table border=\"1\" class=\"dataframe\">\n",
       "  <thead>\n",
       "    <tr style=\"text-align: right;\">\n",
       "      <th></th>\n",
       "      <th>ID</th>\n",
       "      <th>Ultimo_Nome</th>\n",
       "      <th>Primeiro_Nome</th>\n",
       "      <th>Sexo</th>\n",
       "      <th>Idade</th>\n",
       "      <th>Departamento</th>\n",
       "      <th>Tempo_Empresa</th>\n",
       "      <th>Salario_Anual</th>\n",
       "      <th>Nota</th>\n",
       "    </tr>\n",
       "  </thead>\n",
       "  <tbody>\n",
       "    <tr>\n",
       "      <th>0</th>\n",
       "      <td>1075</td>\n",
       "      <td>Dickens</td>\n",
       "      <td>Jimmy</td>\n",
       "      <td>M</td>\n",
       "      <td>60</td>\n",
       "      <td>A</td>\n",
       "      <td>42</td>\n",
       "      <td>74500.000000</td>\n",
       "      <td>7.4</td>\n",
       "    </tr>\n",
       "    <tr>\n",
       "      <th>1</th>\n",
       "      <td>1161</td>\n",
       "      <td>Anderson</td>\n",
       "      <td>James</td>\n",
       "      <td>M</td>\n",
       "      <td>61</td>\n",
       "      <td>B</td>\n",
       "      <td>41</td>\n",
       "      <td>73397.397499</td>\n",
       "      <td>9.0</td>\n",
       "    </tr>\n",
       "    <tr>\n",
       "      <th>2</th>\n",
       "      <td>1311</td>\n",
       "      <td>Long</td>\n",
       "      <td>Peggy</td>\n",
       "      <td>F</td>\n",
       "      <td>57</td>\n",
       "      <td>A</td>\n",
       "      <td>39</td>\n",
       "      <td>71668.997726</td>\n",
       "      <td>6.0</td>\n",
       "    </tr>\n",
       "    <tr>\n",
       "      <th>3</th>\n",
       "      <td>1506</td>\n",
       "      <td>Gebhardt</td>\n",
       "      <td>Virginia</td>\n",
       "      <td>F</td>\n",
       "      <td>57</td>\n",
       "      <td>B</td>\n",
       "      <td>37</td>\n",
       "      <td>69433.997726</td>\n",
       "      <td>8.8</td>\n",
       "    </tr>\n",
       "    <tr>\n",
       "      <th>4</th>\n",
       "      <td>1543</td>\n",
       "      <td>Ammann</td>\n",
       "      <td>Ray</td>\n",
       "      <td>M</td>\n",
       "      <td>60</td>\n",
       "      <td>A</td>\n",
       "      <td>37</td>\n",
       "      <td>70775.000000</td>\n",
       "      <td>4.8</td>\n",
       "    </tr>\n",
       "  </tbody>\n",
       "</table>\n",
       "</div>"
      ],
      "text/plain": [
       "     ID    Ultimo_Nome  Primeiro_Nome Sexo  Idade Departamento  Tempo_Empresa  \\\n",
       "0  1075  Dickens        Jimmy            M     60            A             42   \n",
       "1  1161  Anderson       James            M     61            B             41   \n",
       "2  1311  Long           Peggy            F     57            A             39   \n",
       "3  1506  Gebhardt       Virginia         F     57            B             37   \n",
       "4  1543  Ammann         Ray              M     60            A             37   \n",
       "\n",
       "   Salario_Anual  Nota  \n",
       "0   74500.000000   7.4  \n",
       "1   73397.397499   9.0  \n",
       "2   71668.997726   6.0  \n",
       "3   69433.997726   8.8  \n",
       "4   70775.000000   4.8  "
      ]
     },
     "execution_count": 2,
     "metadata": {},
     "output_type": "execute_result"
    }
   ],
   "source": [
    "dados = pd.read_excel('Cia_Eletronicos.xlsx', sheet_name='Dados')\n",
    "# pd.read_excel() chama a função read_excel da biblioteca pd (pandas);\n",
    "# precisamos oferecer à função o caminho em que se encontra a planilha em Excel para ser importada;\n",
    "# a parte sheet_name='Dados' instrui a função a ler a aba 'Dados' do arquivo em questão (que pode ter várias abas);\n",
    "# o conteúdo é armazenado como um DataFrame do pandas (tabela em Python) no objeto chamado dados. \n",
    "\n",
    "dados.head()\n",
    "# Exibe as primeiras 5 linhas do DataFrame dados.\n",
    "# Se não usarmos o sufixo .head(), todo o objeto tentará ser carregado e isso pode ser um problema se a base for grande (a tabela pode ser\n",
    "# exibida de maneira truncada, inclusive, se for muito grande). \n",
    "# Uma alternativa é configurar o pandas para mostrar mais linhas e colunas:\n",
    "# pd.set_option('display.max_rows', 200)     # mostra até 200 linhas\n",
    "# pd.set_option('display.max_columns', None) # mostra todas as colunas\n",
    "# dados\n",
    "\n",
    "# Podemos também fazer a visualização por pedaços:\n",
    "# dados[0:100]    # linhas de 0 a 99\n",
    "# dados[-10:]     # últimas 10 linhas"
   ]
  },
  {
   "cell_type": "markdown",
   "id": "813db60b",
   "metadata": {},
   "source": [
    "## Explorando a estrutura dos dados"
   ]
  },
  {
   "cell_type": "code",
   "execution_count": null,
   "id": "6b608899",
   "metadata": {},
   "outputs": [
    {
     "name": "stdout",
     "output_type": "stream",
     "text": [
      "<class 'pandas.core.frame.DataFrame'>\n",
      "RangeIndex: 155 entries, 0 to 154\n",
      "Data columns (total 9 columns):\n",
      " #   Column         Non-Null Count  Dtype  \n",
      "---  ------         --------------  -----  \n",
      " 0   ID             155 non-null    int64  \n",
      " 1   Ultimo_Nome    155 non-null    object \n",
      " 2   Primeiro_Nome  155 non-null    object \n",
      " 3   Sexo           155 non-null    object \n",
      " 4   Idade          155 non-null    int64  \n",
      " 5   Departamento   155 non-null    object \n",
      " 6   Tempo_Empresa  155 non-null    int64  \n",
      " 7   Salario_Anual  155 non-null    float64\n",
      " 8   Nota           155 non-null    float64\n",
      "dtypes: float64(2), int64(3), object(4)\n",
      "memory usage: 11.0+ KB\n",
      "                ID       Idade  Tempo_Empresa  Salario_Anual        Nota\n",
      "count   155.000000  155.000000     155.000000     155.000000  155.000000\n",
      "mean   4153.083871   40.283871      11.122581   53663.840032    6.373548\n",
      "std     999.598997   11.848478       9.778943    6527.135161    1.598663\n",
      "min    1075.000000   19.000000       1.000000   44700.000000    3.300000\n",
      "25%    3595.500000   31.000000       3.000000   48782.599659    5.000000\n",
      "50%    4439.000000   40.000000       8.000000   51643.399773    6.400000\n",
      "75%    4971.000000   50.000000      16.500000   57066.998863    7.500000\n",
      "max    5298.000000   62.000000      42.000000   74500.000000   10.000000\n"
     ]
    }
   ],
   "source": [
    "dados.info()    # Exibe um resumo da estrutura do DataFrame (número de linhas e colunas, valores não nulos, nomes das colunas, uso de memória...)\n",
    "# É muito interessante para:\n",
    "# - verificarmos se há valores ausentes (nulls) em alguma coluna; \n",
    "# - checarmos os tipos de dados (importante antes de aplicar funções estatísticas ou gráficos); e\n",
    "# - termos uma visão geral rápida da base.\n",
    "\n",
    "# Interpretação:\n",
    "# dtypes: float64(2), int64(3), object(4)\n",
    "# O DataFrame tem 2 colunas com números decimais (float64 ou ponto flutuante de 64 bits);\n",
    "# 3 colunas com números inteiros (int64 ou número inteiro de 64 bits);\n",
    "# 4 colunas com texto ou outros tipos genéricos (object designa um tipo genérico: normalmente strings, mas também pode conter misturas de tipos).\n",
    "\n",
    "# Alguns comentários:\n",
    "# Alguns cálculos ou gráficos só funcionam com float ou int.\n",
    "# Colunas como \"Sexo\" ou \"Departamento\" devem ser object ou category, e não numéricas.\n",
    "# Se um número for lido como object (ex: \"42\" como texto), podemos ter problemas para calcular a média ou somar — então pode ser necessário converter com pd.to_numeric().\n",
    "\n",
    "dados.describe()    # Gera um resumo estatístico das colunas numéricas (por padrão), mostrando:\n",
    "# Contagem de valores (count)\n",
    "# Média (mean)\n",
    "# Desvio-padrão (std)\n",
    "# Valores mínimo e máximo\n",
    "# Quartis (25% - Q1, 50% - mediana, 75% - Q3)\n",
    "\n",
    "print(resumo)    # Exibe o resumo estatístico gerado na linha anterior.\n",
    "# Podemos usar o método .describe() para colunas específicas, por exemplo:"
   ]
  },
  {
   "cell_type": "code",
   "execution_count": 8,
   "id": "aeb09612-b072-41d4-ba79-1074a478d633",
   "metadata": {},
   "outputs": [
    {
     "data": {
      "text/html": [
       "<div>\n",
       "<style scoped>\n",
       "    .dataframe tbody tr th:only-of-type {\n",
       "        vertical-align: middle;\n",
       "    }\n",
       "\n",
       "    .dataframe tbody tr th {\n",
       "        vertical-align: top;\n",
       "    }\n",
       "\n",
       "    .dataframe thead th {\n",
       "        text-align: right;\n",
       "    }\n",
       "</style>\n",
       "<table border=\"1\" class=\"dataframe\">\n",
       "  <thead>\n",
       "    <tr style=\"text-align: right;\">\n",
       "      <th></th>\n",
       "      <th>Ultimo_Nome</th>\n",
       "      <th>Primeiro_Nome</th>\n",
       "      <th>Sexo</th>\n",
       "      <th>Departamento</th>\n",
       "    </tr>\n",
       "  </thead>\n",
       "  <tbody>\n",
       "    <tr>\n",
       "      <th>count</th>\n",
       "      <td>155</td>\n",
       "      <td>155</td>\n",
       "      <td>155</td>\n",
       "      <td>155</td>\n",
       "    </tr>\n",
       "    <tr>\n",
       "      <th>unique</th>\n",
       "      <td>153</td>\n",
       "      <td>129</td>\n",
       "      <td>2</td>\n",
       "      <td>4</td>\n",
       "    </tr>\n",
       "    <tr>\n",
       "      <th>top</th>\n",
       "      <td>Wilson</td>\n",
       "      <td>Debbie</td>\n",
       "      <td>F</td>\n",
       "      <td>A</td>\n",
       "    </tr>\n",
       "    <tr>\n",
       "      <th>freq</th>\n",
       "      <td>2</td>\n",
       "      <td>4</td>\n",
       "      <td>89</td>\n",
       "      <td>41</td>\n",
       "    </tr>\n",
       "  </tbody>\n",
       "</table>\n",
       "</div>"
      ],
      "text/plain": [
       "          Ultimo_Nome  Primeiro_Nome Sexo Departamento\n",
       "count             155            155  155          155\n",
       "unique            153            129    2            4\n",
       "top     Wilson         Debbie           F            A\n",
       "freq                2              4   89           41"
      ]
     },
     "execution_count": 8,
     "metadata": {},
     "output_type": "execute_result"
    }
   ],
   "source": [
    "# E se quisermos visualizar estatísticas descritivas das variáveis categóricas?\n",
    "\n",
    "dados.describe(include='object')\n",
    "\n",
    "# Este comando mostra um resumo apenas das colunas categóricas, ou seja, aquelas com dtype = object.\n",
    "# Retorna, para cada coluna qualitativa:\n",
    "# count: número de valores não nulos\n",
    "# unique: número de categorias distintas\n",
    "# top: valor mais frequente (moda)\n",
    "# freq: frequência do valor mais frequente"
   ]
  },
  {
   "cell_type": "code",
   "execution_count": 9,
   "id": "4189acee-c890-4d08-bbe0-79e88d8a0537",
   "metadata": {},
   "outputs": [
    {
     "data": {
      "text/plain": [
       "(155, 9)"
      ]
     },
     "execution_count": 9,
     "metadata": {},
     "output_type": "execute_result"
    }
   ],
   "source": [
    "### Outros comandos para a estrutura básica do DataFrame:\n",
    "dados.shape         # (linhas, colunas)"
   ]
  },
  {
   "cell_type": "code",
   "execution_count": 10,
   "id": "bc116cb0-cb60-4ef3-9fa1-ba8385ae4186",
   "metadata": {},
   "outputs": [
    {
     "data": {
      "text/plain": [
       "Index(['ID', 'Ultimo_Nome', 'Primeiro_Nome', 'Sexo', 'Idade', 'Departamento',\n",
       "       'Tempo_Empresa', 'Salario_Anual', 'Nota'],\n",
       "      dtype='object')"
      ]
     },
     "execution_count": 10,
     "metadata": {},
     "output_type": "execute_result"
    }
   ],
   "source": [
    "### Outros comandos para a estrutura básica do DataFrame:\n",
    "dados.columns       # nomes das colunas\n",
    "\n",
    "# Observe que nesta saída aparecerá dtype = 'object'.\n",
    "# Isso não quer dizer que os dados nas colunas são object — apenas que os nomes das colunas são strings!"
   ]
  },
  {
   "cell_type": "code",
   "execution_count": 11,
   "id": "97674b84-85ed-4462-8a04-4d7afc83d9ba",
   "metadata": {},
   "outputs": [
    {
     "data": {
      "text/plain": [
       "ID                 int64\n",
       "Ultimo_Nome       object\n",
       "Primeiro_Nome     object\n",
       "Sexo              object\n",
       "Idade              int64\n",
       "Departamento      object\n",
       "Tempo_Empresa      int64\n",
       "Salario_Anual    float64\n",
       "Nota             float64\n",
       "dtype: object"
      ]
     },
     "execution_count": 11,
     "metadata": {},
     "output_type": "execute_result"
    }
   ],
   "source": [
    "### Outros comandos para a estrutura básica do DataFrame:\n",
    "dados.dtypes        # tipos das variáveis"
   ]
  },
  {
   "cell_type": "markdown",
   "id": "863ef7f9",
   "metadata": {},
   "source": [
    "## Estatísticas dos salários anuais - geral e por departamento"
   ]
  },
  {
   "cell_type": "code",
   "execution_count": 13,
   "id": "93e3d84f",
   "metadata": {},
   "outputs": [
    {
     "name": "stdout",
     "output_type": "stream",
     "text": [
      "Média dos salários anuais: 53663.84\n",
      "Desvio-padrão: 6527.14\n"
     ]
    }
   ],
   "source": [
    "# Média e desvio-padrão geral\n",
    "media_geral_salario = dados['Salario_Anual'].mean()\n",
    "# dados['Salario_Anual'] : Acessa a coluna chamada Salario_Anual no DataFrame dados.\n",
    "# .mean() : Aplica o método .mean() para calcular a média aritmética dos salários.\n",
    "# media_geral = O resultado é armazenado na variável media_geral.\n",
    "\n",
    "dp_geral_salario = dados['Salario_Anual'].std()\n",
    "# Idem... ao invés da média, estamos agora calculando o desvio-padrão amostral (std)\n",
    "\n",
    "print(f\"Média dos salários anuais: {media_geral_salario:.2f}\")\n",
    "# Imprime a média formatada com duas casas decimais (:.2f)\n",
    "# f\"texto {variavel}\" é uma f-string, usada para incorporar valores dentro do texto\n",
    "\n",
    "print(f\"Desvio-padrão: {dp_geral_salario:.2f}\")\n"
   ]
  },
  {
   "cell_type": "code",
   "execution_count": 16,
   "id": "9558bc06",
   "metadata": {},
   "outputs": [
    {
     "data": {
      "text/html": [
       "<div>\n",
       "<style scoped>\n",
       "    .dataframe tbody tr th:only-of-type {\n",
       "        vertical-align: middle;\n",
       "    }\n",
       "\n",
       "    .dataframe tbody tr th {\n",
       "        vertical-align: top;\n",
       "    }\n",
       "\n",
       "    .dataframe thead th {\n",
       "        text-align: right;\n",
       "    }\n",
       "</style>\n",
       "<table border=\"1\" class=\"dataframe\">\n",
       "  <thead>\n",
       "    <tr style=\"text-align: right;\">\n",
       "      <th></th>\n",
       "      <th>Departamento</th>\n",
       "      <th>Salario Anual Médio</th>\n",
       "      <th>Desvio Padrão</th>\n",
       "    </tr>\n",
       "  </thead>\n",
       "  <tbody>\n",
       "    <tr>\n",
       "      <th>0</th>\n",
       "      <td>A</td>\n",
       "      <td>54238.907508</td>\n",
       "      <td>7344.396829</td>\n",
       "    </tr>\n",
       "    <tr>\n",
       "      <th>1</th>\n",
       "      <td>B</td>\n",
       "      <td>54377.004764</td>\n",
       "      <td>7077.816878</td>\n",
       "    </tr>\n",
       "    <tr>\n",
       "      <th>2</th>\n",
       "      <td>C</td>\n",
       "      <td>53282.400272</td>\n",
       "      <td>6281.681648</td>\n",
       "    </tr>\n",
       "    <tr>\n",
       "      <th>3</th>\n",
       "      <td>D</td>\n",
       "      <td>52502.012209</td>\n",
       "      <td>4877.726962</td>\n",
       "    </tr>\n",
       "  </tbody>\n",
       "</table>\n",
       "</div>"
      ],
      "text/plain": [
       "  Departamento  Salario Anual Médio  Desvio Padrão\n",
       "0            A         54238.907508    7344.396829\n",
       "1            B         54377.004764    7077.816878\n",
       "2            C         53282.400272    6281.681648\n",
       "3            D         52502.012209    4877.726962"
      ]
     },
     "execution_count": 16,
     "metadata": {},
     "output_type": "execute_result"
    }
   ],
   "source": [
    "# Estatísticas por departamento\n",
    "resumo_departamentos = dados.groupby('Departamento')['Salario_Anual'].agg(['mean', 'std']).reset_index()\n",
    "# Este trecho é bastante usual no contexto do pandas. O que está acontecendo:\n",
    "# dados.groupby('Departamento'): agrupa o DataFrame por valores únicos na coluna Departamento.\n",
    "# ['Salario_Anual']: aplica o agrupamento somente sobre a coluna Salario_Anual.\n",
    "# .agg(['mean', 'std']): agrega os dados aplicando duas funções: média (mean) e desvio-padrão (std), para cada grupo (departamento).\n",
    "# .reset_index(): transforma o índice do agrupamento de volta em coluna, criando um DataFrame \"normal\".\n",
    "\n",
    "resumo_departamentos.columns = ['Departamento', 'Salario Anual Médio', 'Desvio Padrão']\n",
    "# Aqui, simplesmente estamos renomeando os nomes das colunas do objeto resumo_departamentos. Tente rodar essa célula sem esta instrução e veja a diferença. \n",
    "\n",
    "resumo_departamentos\n",
    "\n",
    "# Extra: rode esta célula sem o sufixo .reset_index() na primeira linha. Consegue perceber alguma diferença?\n",
    "# Vantagens de manter o sufixo .reset_index():\n",
    "# Facilita a manipulação dos dados com índice numérico\n",
    "# Melhora a compatibilidade com outras operações (há funções que esperam que dados estejam em colunas, não no índice)"
   ]
  },
  {
   "cell_type": "markdown",
   "id": "c7b81bd4",
   "metadata": {},
   "source": [
    "## Boxplot dos salários por departamento"
   ]
  },
  {
   "cell_type": "code",
   "execution_count": 15,
   "id": "84230745-4ede-47e6-bd20-1eb1695ff716",
   "metadata": {},
   "outputs": [
    {
     "data": {
      "image/png": "[encoded data removed]",
      "text/plain": [
       "<Figure size 640x480 with 1 Axes>"
      ]
     },
     "metadata": {},
     "output_type": "display_data"
    }
   ],
   "source": [
    "# plt.figure(figsize=(8, 5))\n",
    "# Opcional. Define o tamanho do gráfico (polegadas), útil para evitar que os elementos fiquem espremidos ou desproporcionais.\n",
    "sns.boxplot(data=dados, x='Departamento', y='Salario_Anual') \n",
    "plt.title('Distribuição dos Salários Anuais por Departamento')\n",
    "plt.xlabel('Departamento')\n",
    "plt.ylabel('Salário Anual')\n",
    "# plt.tight_layout()\n",
    "# Opcional. Ajusta automaticamente os espaçamentos internos da figura para que nenhum elemento (eixo, legenda, título) fique sobreposto ou cortado.\n",
    "plt.show()"
   ]
  },
  {
   "cell_type": "markdown",
   "id": "dafb2cef",
   "metadata": {},
   "source": [
    "## Probabilidade de uma mulher ter salário acima da média"
   ]
  },
  {
   "cell_type": "code",
   "execution_count": null,
   "id": "012543c7",
   "metadata": {},
   "outputs": [
    {
     "name": "stdout",
     "output_type": "stream",
     "text": [
      "36\n",
      "89\n",
      "Probabilidade de uma mulher ter salário acima da média: 0.404\n"
     ]
    }
   ],
   "source": [
    "total_mulheres = dados[dados['Sexo'] == 'F'].shape[0]\n",
    "# Filtra o DataFrame 'dados' para manter somente as linhas onde o Sexo é feminino ('Sexo' == 'F'), e depois pega o número total dessas linhas.\n",
    "# O sufixo .shape[0] retorna o número de linhas do DataFrame filtrado (nesse caso, o número de mulheres na amostra).\n",
    "# O resultado é armazenado no objeto total_mulheres\n",
    "\n",
    "mulheres_salario_acima_media = dados[(dados['Sexo'] == 'F') & (dados['Salario_Anual'] > media_geral_salario)].shape[0]\n",
    "print(mulheres_salario_acima_media)\n",
    "print(total_mulheres)\n",
    "prop_mulheres_salario_acima_media = mulheres_salario_acima_media / total_mulheres\n",
    "\n",
    "print(f\"Probabilidade de uma mulher ter salário acima da média: {prop_mulheres_salario_acima_media:.3f}\")"
   ]
  },
  {
   "cell_type": "markdown",
   "id": "b054ca28",
   "metadata": {},
   "source": [
    "## Boxplot das notas por departamento"
   ]
  },
  {
   "cell_type": "code",
   "execution_count": 20,
   "id": "08422e45",
   "metadata": {},
   "outputs": [
    {
     "data": {
      "image/png": "[encoded data removed]",
      "text/plain": [
       "<Figure size 640x480 with 1 Axes>"
      ]
     },
     "metadata": {},
     "output_type": "display_data"
    }
   ],
   "source": [
    "# plt.figure(figsize=(8, 5))\n",
    "sns.boxplot(data=dados, x='Departamento', y='Nota')\n",
    "plt.title('Distribuição das Notas por Departamento')\n",
    "plt.xlabel('Departamento')\n",
    "plt.ylabel('Nota')\n",
    "# plt.tight_layout()\n",
    "plt.show()"
   ]
  },
  {
   "cell_type": "code",
   "execution_count": 21,
   "id": "1d2d6d24-15d7-46a2-9777-e5e5bfa2bc8f",
   "metadata": {},
   "outputs": [
    {
     "data": {
      "text/plain": [
       "Sexo\n",
       "F    89\n",
       "M    66\n",
       "Name: count, dtype: int64"
      ]
     },
     "execution_count": 21,
     "metadata": {},
     "output_type": "execute_result"
    }
   ],
   "source": [
    "### Visualizando contagens de categorias de variáveis qualitativas\n",
    "dados['Sexo'].value_counts()\n",
    "\n",
    "# O sufixo .value_counts() serve para contar quantas vezes cada categoria ocorre na variável Sexo, do DataFrame dados."
   ]
  },
  {
   "cell_type": "code",
   "execution_count": 22,
   "id": "3de05d6c-695b-41b6-aadc-a7dab911ecbe",
   "metadata": {},
   "outputs": [
    {
     "data": {
      "text/plain": [
       "Departamento\n",
       "A    41\n",
       "B    41\n",
       "C    41\n",
       "D    32\n",
       "Name: count, dtype: int64"
      ]
     },
     "execution_count": 22,
     "metadata": {},
     "output_type": "execute_result"
    }
   ],
   "source": [
    "# Repetindo a mesma ideia, agora para a variável Departamento:\n",
    "dados['Departamento'].value_counts()"
   ]
  },
  {
   "cell_type": "code",
   "execution_count": 24,
   "id": "0a907af5-aade-43d4-9225-e1bdb1f93287",
   "metadata": {},
   "outputs": [
    {
     "data": {
      "text/html": [
       "<div>\n",
       "<style scoped>\n",
       "    .dataframe tbody tr th:only-of-type {\n",
       "        vertical-align: middle;\n",
       "    }\n",
       "\n",
       "    .dataframe tbody tr th {\n",
       "        vertical-align: top;\n",
       "    }\n",
       "\n",
       "    .dataframe thead th {\n",
       "        text-align: right;\n",
       "    }\n",
       "</style>\n",
       "<table border=\"1\" class=\"dataframe\">\n",
       "  <thead>\n",
       "    <tr style=\"text-align: right;\">\n",
       "      <th>Departamento</th>\n",
       "      <th>A</th>\n",
       "      <th>B</th>\n",
       "      <th>C</th>\n",
       "      <th>D</th>\n",
       "    </tr>\n",
       "    <tr>\n",
       "      <th>Sexo</th>\n",
       "      <th></th>\n",
       "      <th></th>\n",
       "      <th></th>\n",
       "      <th></th>\n",
       "    </tr>\n",
       "  </thead>\n",
       "  <tbody>\n",
       "    <tr>\n",
       "      <th>F</th>\n",
       "      <td>18</td>\n",
       "      <td>26</td>\n",
       "      <td>27</td>\n",
       "      <td>18</td>\n",
       "    </tr>\n",
       "    <tr>\n",
       "      <th>M</th>\n",
       "      <td>23</td>\n",
       "      <td>15</td>\n",
       "      <td>14</td>\n",
       "      <td>14</td>\n",
       "    </tr>\n",
       "  </tbody>\n",
       "</table>\n",
       "</div>"
      ],
      "text/plain": [
       "Departamento   A   B   C   D\n",
       "Sexo                        \n",
       "F             18  26  27  18\n",
       "M             23  15  14  14"
      ]
     },
     "execution_count": 24,
     "metadata": {},
     "output_type": "execute_result"
    }
   ],
   "source": [
    "## E se quisermos montar tabelas?\n",
    "# Usamos a função pd.crosstab()\n",
    "# Exemplo:\n",
    "\n",
    "pd.crosstab(dados['Sexo'], dados['Departamento'])\n",
    "\n",
    "# A primeira variável é usada nas linhas, e a segunda variável é usada nas colunas. Tente transpor a tabela!"
   ]
  },
  {
   "cell_type": "code",
   "execution_count": 25,
   "id": "ed1d98b4-2e6d-4828-bb58-f3e12e939083",
   "metadata": {},
   "outputs": [
    {
     "data": {
      "image/png": "[encoded data removed]",
      "text/plain": [
       "<Figure size 800x1200 with 2 Axes>"
      ]
     },
     "metadata": {},
     "output_type": "display_data"
    }
   ],
   "source": [
    "### Alguns outros exemplos de gráficos (exploraremos essa área na aula seguinte...):\n",
    "# Definindo o estilo gráfico\n",
    "sns.set(style=\"whitegrid\")\n",
    "\n",
    "# Criar uma figura com 2 subplots (um embaixo do outro)\n",
    "fig, axs = plt.subplots(2, 1, figsize=(8, 12))  # (linhas, colunas, tamanho)\n",
    "\n",
    "# 1. Histograma da Idade\n",
    "sns.histplot(data=dados, x='Idade', ax=axs[0])\n",
    "axs[0].set_title('Distribuição de Idade')\n",
    "\n",
    "# 2. Gráfico de barras da contagem por Sexo\n",
    "sns.countplot(data=dados, x='Sexo', ax=axs[1])\n",
    "axs[1].set_title('Distribuição por Sexo')\n",
    "\n",
    "# Ajusta layout para evitar sobreposição\n",
    "plt.tight_layout()\n",
    "\n",
    "# Exibe todos os gráficos\n",
    "plt.show()\n"
   ]
  },
  {
   "cell_type": "markdown",
   "id": "60eb8870",
   "metadata": {},
   "source": [
    "## Análise Livre\n",
    "Como exercício final, cada grupo deve realizar uma análise própria.\n",
    "\n",
    "Sugestões:\n",
    "- Comparar salários e notas entre departamentos;\n",
    "- Investigar disparidades de gênero dentro de cada departamento.\n",
    "\n",
    "No mínimo o grupo deverá entregar um Jupyter notebook contendo um gráfico box-plot, uma tabela e uma análises com médias e desvios-padrões."
   ]
  },
  {
   "cell_type": "markdown",
   "id": "feb79220",
   "metadata": {},
   "source": [
    "## Análise Gabriella Pinheiro"
   ]
  },
  {
   "cell_type": "code",
   "execution_count": null,
   "id": "6b72b9e9",
   "metadata": {},
   "outputs": [
    {
     "name": "stdout",
     "output_type": "stream",
     "text": [
      "count    155.000000\n",
      "mean      11.122581\n",
      "std        9.778943\n",
      "min        1.000000\n",
      "25%        3.000000\n",
      "50%        8.000000\n",
      "75%       16.500000\n",
      "max       42.000000\n",
      "Name: Tempo_Empresa, dtype: float64\n"
     ]
    },
    {
     "data": {
      "text/html": [
       "<div>\n",
       "<style scoped>\n",
       "    .dataframe tbody tr th:only-of-type {\n",
       "        vertical-align: middle;\n",
       "    }\n",
       "\n",
       "    .dataframe tbody tr th {\n",
       "        vertical-align: top;\n",
       "    }\n",
       "\n",
       "    .dataframe thead th {\n",
       "        text-align: right;\n",
       "    }\n",
       "</style>\n",
       "<table border=\"1\" class=\"dataframe\">\n",
       "  <thead>\n",
       "    <tr style=\"text-align: right;\">\n",
       "      <th></th>\n",
       "      <th>ID</th>\n",
       "      <th>Ultimo_Nome</th>\n",
       "      <th>Primeiro_Nome</th>\n",
       "      <th>Sexo</th>\n",
       "      <th>Idade</th>\n",
       "      <th>Departamento</th>\n",
       "      <th>Tempo_Empresa</th>\n",
       "      <th>Salario_Anual</th>\n",
       "      <th>Nota</th>\n",
       "      <th>Faixa_Tempo_Empresa</th>\n",
       "    </tr>\n",
       "  </thead>\n",
       "  <tbody>\n",
       "    <tr>\n",
       "      <th>0</th>\n",
       "      <td>1075</td>\n",
       "      <td>Dickens</td>\n",
       "      <td>Jimmy</td>\n",
       "      <td>M</td>\n",
       "      <td>60</td>\n",
       "      <td>A</td>\n",
       "      <td>42</td>\n",
       "      <td>74500.000000</td>\n",
       "      <td>7.4</td>\n",
       "      <td>21+ anos</td>\n",
       "    </tr>\n",
       "    <tr>\n",
       "      <th>1</th>\n",
       "      <td>1161</td>\n",
       "      <td>Anderson</td>\n",
       "      <td>James</td>\n",
       "      <td>M</td>\n",
       "      <td>61</td>\n",
       "      <td>B</td>\n",
       "      <td>41</td>\n",
       "      <td>73397.397499</td>\n",
       "      <td>9.0</td>\n",
       "      <td>21+ anos</td>\n",
       "    </tr>\n",
       "    <tr>\n",
       "      <th>2</th>\n",
       "      <td>1311</td>\n",
       "      <td>Long</td>\n",
       "      <td>Peggy</td>\n",
       "      <td>F</td>\n",
       "      <td>57</td>\n",
       "      <td>A</td>\n",
       "      <td>39</td>\n",
       "      <td>71668.997726</td>\n",
       "      <td>6.0</td>\n",
       "      <td>21+ anos</td>\n",
       "    </tr>\n",
       "    <tr>\n",
       "      <th>3</th>\n",
       "      <td>1506</td>\n",
       "      <td>Gebhardt</td>\n",
       "      <td>Virginia</td>\n",
       "      <td>F</td>\n",
       "      <td>57</td>\n",
       "      <td>B</td>\n",
       "      <td>37</td>\n",
       "      <td>69433.997726</td>\n",
       "      <td>8.8</td>\n",
       "      <td>21+ anos</td>\n",
       "    </tr>\n",
       "    <tr>\n",
       "      <th>4</th>\n",
       "      <td>1543</td>\n",
       "      <td>Ammann</td>\n",
       "      <td>Ray</td>\n",
       "      <td>M</td>\n",
       "      <td>60</td>\n",
       "      <td>A</td>\n",
       "      <td>37</td>\n",
       "      <td>70775.000000</td>\n",
       "      <td>4.8</td>\n",
       "      <td>21+ anos</td>\n",
       "    </tr>\n",
       "  </tbody>\n",
       "</table>\n",
       "</div>"
      ],
      "text/plain": [
       "     ID    Ultimo_Nome  Primeiro_Nome Sexo  Idade Departamento  Tempo_Empresa  \\\n",
       "0  1075  Dickens        Jimmy            M     60            A             42   \n",
       "1  1161  Anderson       James            M     61            B             41   \n",
       "2  1311  Long           Peggy            F     57            A             39   \n",
       "3  1506  Gebhardt       Virginia         F     57            B             37   \n",
       "4  1543  Ammann         Ray              M     60            A             37   \n",
       "\n",
       "   Salario_Anual  Nota Faixa_Tempo_Empresa  \n",
       "0   74500.000000   7.4            21+ anos  \n",
       "1   73397.397499   9.0            21+ anos  \n",
       "2   71668.997726   6.0            21+ anos  \n",
       "3   69433.997726   8.8            21+ anos  \n",
       "4   70775.000000   4.8            21+ anos  "
      ]
     },
     "execution_count": 38,
     "metadata": {},
     "output_type": "execute_result"
    }
   ],
   "source": [
    "# Análise de tempo de empresa\n",
    "# Primeiro, vamos verificar os dados da coluna 'Tempo_Empresa'\n",
    "\n",
    "\n",
    "tempo_describe = dados['Tempo_Empresa'].describe()\n",
    "print(tempo_describe)\n",
    "\n",
    "\n",
    "def classificar_tempo(anos):\n",
    "    if anos <= 3:\n",
    "        return '1-3 anos'\n",
    "    elif anos <= 7:\n",
    "        return '4-7 anos'\n",
    "    elif anos <= 12:\n",
    "        return '8-12 anos'\n",
    "    elif anos <= 20:\n",
    "        return '13-20 anos'\n",
    "    else:\n",
    "        return '21+ anos'\n",
    "\n",
    "dados['Faixa_Tempo_Empresa'] = dados['Tempo_Empresa'].apply(classificar_tempo)\n",
    "\n",
    "dados.head()\n"
   ]
  },
  {
   "cell_type": "code",
   "execution_count": null,
   "id": "5151f3cb",
   "metadata": {},
   "outputs": [
    {
     "data": {
      "image/png": "[encoded data removed]",
      "text/plain": [
       "<Figure size 800x500 with 1 Axes>"
      ]
     },
     "metadata": {},
     "output_type": "display_data"
    }
   ],
   "source": [
    "# Agora, vamos criar um gráfico de barras para visualizar a distribuição dos funcionários por faixa de tempo de empresa.\n",
    "# sns.set(style=\"whitegrid\")  # Define o estilo do gráfico (opcional)\n",
    "\n",
    "\n",
    "plt.figure(figsize=(8, 5))\n",
    "sns.countplot(data=dados, x='Faixa_Tempo_Empresa', order=['1-3 anos', '4-7 anos', '8-12 anos', '13-20 anos', '21+ anos'])\n",
    "plt.title('Distribuição de Funcionários por Faixa de Tempo de Empresa')\n",
    "plt.xlabel('Faixa de Tempo de Empresa')\n",
    "plt.ylabel('Número de Funcionários')\n",
    "plt.grid(axis='y')\n",
    "plt.tight_layout()\n",
    "plt.show()"
   ]
  },
  {
   "cell_type": "code",
   "execution_count": 42,
   "id": "b784cd80",
   "metadata": {},
   "outputs": [
    {
     "data": {
      "text/html": [
       "<div>\n",
       "<style scoped>\n",
       "    .dataframe tbody tr th:only-of-type {\n",
       "        vertical-align: middle;\n",
       "    }\n",
       "\n",
       "    .dataframe tbody tr th {\n",
       "        vertical-align: top;\n",
       "    }\n",
       "\n",
       "    .dataframe thead th {\n",
       "        text-align: right;\n",
       "    }\n",
       "</style>\n",
       "<table border=\"1\" class=\"dataframe\">\n",
       "  <thead>\n",
       "    <tr style=\"text-align: right;\">\n",
       "      <th>col_0</th>\n",
       "      <th>Salário Médio</th>\n",
       "    </tr>\n",
       "    <tr>\n",
       "      <th>Faixa_Tempo_Empresa</th>\n",
       "      <th></th>\n",
       "    </tr>\n",
       "  </thead>\n",
       "  <tbody>\n",
       "    <tr>\n",
       "      <th>1-3 anos</th>\n",
       "      <td>47425.28</td>\n",
       "    </tr>\n",
       "    <tr>\n",
       "      <th>4-7 anos</th>\n",
       "      <td>50174.26</td>\n",
       "    </tr>\n",
       "    <tr>\n",
       "      <th>8-12 anos</th>\n",
       "      <td>52777.79</td>\n",
       "    </tr>\n",
       "    <tr>\n",
       "      <th>13-20 anos</th>\n",
       "      <td>57190.31</td>\n",
       "    </tr>\n",
       "    <tr>\n",
       "      <th>21+ anos</th>\n",
       "      <td>65789.71</td>\n",
       "    </tr>\n",
       "  </tbody>\n",
       "</table>\n",
       "</div>"
      ],
      "text/plain": [
       "col_0                Salário Médio\n",
       "Faixa_Tempo_Empresa               \n",
       "1-3 anos                  47425.28\n",
       "4-7 anos                  50174.26\n",
       "8-12 anos                 52777.79\n",
       "13-20 anos                57190.31\n",
       "21+ anos                  65789.71"
      ]
     },
     "execution_count": 42,
     "metadata": {},
     "output_type": "execute_result"
    }
   ],
   "source": [
    "# Estatísticas descritivas por faixa de tempo de empresa\n",
    "# Usando pd.crosstab para calcular a média dos salários anuais por faixa de tempo de empresa\n",
    "ordem_faixas = ['1-3 anos', '4-7 anos', '8-12 anos', '13-20 anos', '21+ anos']\n",
    "pd.crosstab(\n",
    "    index=dados['Faixa_Tempo_Empresa'],\n",
    "    columns='Salário Médio',\n",
    "    values=dados['Salario_Anual'],\n",
    "    aggfunc='mean'\n",
    ").reindex(index=ordem_faixas).round(2)"
   ]
  },
  {
   "cell_type": "code",
   "execution_count": null,
   "id": "81c13c33",
   "metadata": {},
   "outputs": [
    {
     "data": {
      "text/html": [
       "<div>\n",
       "<style scoped>\n",
       "    .dataframe tbody tr th:only-of-type {\n",
       "        vertical-align: middle;\n",
       "    }\n",
       "\n",
       "    .dataframe tbody tr th {\n",
       "        vertical-align: top;\n",
       "    }\n",
       "\n",
       "    .dataframe thead th {\n",
       "        text-align: right;\n",
       "    }\n",
       "</style>\n",
       "<table border=\"1\" class=\"dataframe\">\n",
       "  <thead>\n",
       "    <tr style=\"text-align: right;\">\n",
       "      <th>col_0</th>\n",
       "      <th>Nota Média</th>\n",
       "    </tr>\n",
       "    <tr>\n",
       "      <th>Faixa_Tempo_Empresa</th>\n",
       "      <th></th>\n",
       "    </tr>\n",
       "  </thead>\n",
       "  <tbody>\n",
       "    <tr>\n",
       "      <th>1-3 anos</th>\n",
       "      <td>6.33</td>\n",
       "    </tr>\n",
       "    <tr>\n",
       "      <th>4-7 anos</th>\n",
       "      <td>5.91</td>\n",
       "    </tr>\n",
       "    <tr>\n",
       "      <th>8-12 anos</th>\n",
       "      <td>6.37</td>\n",
       "    </tr>\n",
       "    <tr>\n",
       "      <th>13-20 anos</th>\n",
       "      <td>7.04</td>\n",
       "    </tr>\n",
       "    <tr>\n",
       "      <th>21+ anos</th>\n",
       "      <td>6.22</td>\n",
       "    </tr>\n",
       "  </tbody>\n",
       "</table>\n",
       "</div>"
      ],
      "text/plain": [
       "col_0                Nota Média\n",
       "Faixa_Tempo_Empresa            \n",
       "1-3 anos                   6.33\n",
       "4-7 anos                   5.91\n",
       "8-12 anos                  6.37\n",
       "13-20 anos                 7.04\n",
       "21+ anos                   6.22"
      ]
     },
     "execution_count": 43,
     "metadata": {},
     "output_type": "execute_result"
    }
   ],
   "source": [
    "# Agora, vamos calcular a média das notas por faixa de tempo de empresa\n",
    "pd.crosstab(\n",
    "    index=dados['Faixa_Tempo_Empresa'],\n",
    "    columns='Nota Média',\n",
    "    values=dados['Nota'],\n",
    "    aggfunc='mean'\n",
    ").reindex(index=ordem_faixas).round(2)"
   ]
  },
  {
   "cell_type": "code",
   "execution_count": 52,
   "id": "758ea192",
   "metadata": {},
   "outputs": [
    {
     "data": {
      "text/html": [
       "<div>\n",
       "<style scoped>\n",
       "    .dataframe tbody tr th:only-of-type {\n",
       "        vertical-align: middle;\n",
       "    }\n",
       "\n",
       "    .dataframe tbody tr th {\n",
       "        vertical-align: top;\n",
       "    }\n",
       "\n",
       "    .dataframe thead th {\n",
       "        text-align: right;\n",
       "    }\n",
       "</style>\n",
       "<table border=\"1\" class=\"dataframe\">\n",
       "  <thead>\n",
       "    <tr style=\"text-align: right;\">\n",
       "      <th>Sexo</th>\n",
       "      <th>F</th>\n",
       "      <th>M</th>\n",
       "    </tr>\n",
       "    <tr>\n",
       "      <th>Faixa_Tempo_Empresa</th>\n",
       "      <th></th>\n",
       "      <th></th>\n",
       "    </tr>\n",
       "  </thead>\n",
       "  <tbody>\n",
       "    <tr>\n",
       "      <th>1-3 anos</th>\n",
       "      <td>24</td>\n",
       "      <td>18</td>\n",
       "    </tr>\n",
       "    <tr>\n",
       "      <th>13-20 anos</th>\n",
       "      <td>18</td>\n",
       "      <td>11</td>\n",
       "    </tr>\n",
       "    <tr>\n",
       "      <th>21+ anos</th>\n",
       "      <td>16</td>\n",
       "      <td>8</td>\n",
       "    </tr>\n",
       "    <tr>\n",
       "      <th>4-7 anos</th>\n",
       "      <td>19</td>\n",
       "      <td>11</td>\n",
       "    </tr>\n",
       "    <tr>\n",
       "      <th>8-12 anos</th>\n",
       "      <td>12</td>\n",
       "      <td>18</td>\n",
       "    </tr>\n",
       "  </tbody>\n",
       "</table>\n",
       "</div>"
      ],
      "text/plain": [
       "Sexo                  F   M\n",
       "Faixa_Tempo_Empresa        \n",
       "1-3 anos             24  18\n",
       "13-20 anos           18  11\n",
       "21+ anos             16   8\n",
       "4-7 anos             19  11\n",
       "8-12 anos            12  18"
      ]
     },
     "execution_count": 52,
     "metadata": {},
     "output_type": "execute_result"
    }
   ],
   "source": [
    "pd.crosstab(\n",
    "    index=dados['Faixa_Tempo_Empresa'],\n",
    "    columns=dados['Sexo'])"
   ]
  },
  {
   "cell_type": "code",
   "execution_count": 50,
   "id": "432bc548",
   "metadata": {},
   "outputs": [
    {
     "name": "stdout",
     "output_type": "stream",
     "text": [
      "Probabilidade de um funcionário ter 21+ anos de empresa e ser do sexo feminino: 0.103\n"
     ]
    }
   ],
   "source": [
    "# Probabilidade de ter um funcionário com 21+ anos de empresa e ser do sexo feminino\n",
    "total_funcionarios = dados.shape[0]\n",
    "# Total de funcionários na amostra\n",
    "# dados.shape[0] retorna o número total de linhas (funcionários) no DataFrame dados.\n",
    "# O resultado é armazenado na variável total_funcionarios.\n",
    "# Agora, vamos calcular o número de funcionários com 21+ anos de empresa e do sexo feminino\n",
    "total_funcionarios_21_anos_feminino = dados[(dados['Faixa_Tempo_Empresa'] == '21+ anos') & (dados['Sexo'] == 'F')].shape[0]\n",
    "# Filtra o DataFrame para contar quantos funcionários têm 21+ anos de empresa e são do sexo feminino.\n",
    "# O resultado é armazenado na variável total_funcionarios_21_anos_feminino.\n",
    "# Agora, vamos calcular a probabilidade\n",
    "probabilidade_21_anos_feminino = total_funcionarios_21_anos_feminino / total_funcionarios\n",
    "# Divide o número de funcionários com 21+ anos de empresa e do sexo feminino pelo total de funcionários.\n",
    "# O resultado é armazenado na variável probabilidade_21_anos_feminino.\n",
    "print(f\"Probabilidade de um funcionário ter 21+ anos de empresa e ser do sexo feminino: {probabilidade_21_anos_feminino:.3f}\")\n"
   ]
  }
 ],
 "metadata": {
  "kernelspec": {
   "display_name": "base",
   "language": "python",
   "name": "python3"
  },
  "language_info": {
   "codemirror_mode": {
    "name": "ipython",
    "version": 3
   },
   "file_extension": ".py",
   "mimetype": "text/x-python",
   "name": "python",
   "nbconvert_exporter": "python",
   "pygments_lexer": "ipython3",
   "version": "3.12.7"
  }
 },
 "nbformat": 4,
 "nbformat_minor": 5
}
